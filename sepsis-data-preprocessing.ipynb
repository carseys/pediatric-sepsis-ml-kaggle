{
 "cells": [
  {
   "cell_type": "code",
   "execution_count": 33,
   "metadata": {},
   "outputs": [],
   "source": [
    "import pandas as pd\n",
    "import numpy as np\n",
    "import os\n",
    "from sklearn.ensemble import RandomForestClassifier\n",
    "from sklearn.model_selection import GroupShuffleSplit\n",
    "from sklearn.preprocessing import LabelEncoder\n",
    "from sklearn.preprocessing import OneHotEncoder\n",
    "from sklearn.metrics import accuracy_score, confusion_matrix, precision_score, recall_score, ConfusionMatrixDisplay, f1_score\n",
    "from sklearn.metrics import classification_report \n",
    "from sklearn.model_selection import GridSearchCV, RandomizedSearchCV, KFold\n",
    "from xgboost import XGBClassifier\n",
    "from sklearn.impute import KNNImputer\n",
    "from sklearn.ensemble import HistGradientBoostingClassifier\n",
    "import random\n",
    "\n",
    "\n",
    "from collections import Counter\n",
    "from datetime import datetime\n",
    "from tqdm import tqdm\n",
    "import seaborn as sns\n",
    "import matplotlib.pyplot as plt\n",
    "# from imblearn.over_sampling import SMOTE\n",
    "import joblib\n",
    "\n",
    "# pd.set_option('display.max_columns', None)\n",
    "# pd.set_option('display.max_rows', None)"
   ]
  },
  {
   "cell_type": "markdown",
   "metadata": {},
   "source": [
    "##### Functions regarding reading in and processing individual tables of data"
   ]
  },
  {
   "cell_type": "code",
   "execution_count": 2,
   "metadata": {},
   "outputs": [],
   "source": [
    "def readin_data(data_type: str):\n",
    "    \"\"\" This function reads in test or train data, which must be in folders 'testing_data' and 'training_data' in the same directory.\n",
    "\n",
    "    Parameters\n",
    "    ----------\n",
    "    'data_type' : str\n",
    "        This must be 'test' or 'train'.\n",
    "    \"\"\"\n",
    "    assert (data_type=='test') or (data_type=='train'), f'You gave data_type as {data_type}. Please define data_type as \"test\" or \"train.\"'\n",
    "    if data_type == 'test':\n",
    "        inner_directory = './testing_data/'\n",
    "        data_list = os.listdir('./testing_data')\n",
    "    else:\n",
    "        inner_directory = './training_data/'\n",
    "        data_list = os.listdir('./training_data')\n",
    "    data_dict = {}\n",
    "    for file_name in data_list:\n",
    "        data_dict[file_name.split('.')[0]] = pd.read_csv(inner_directory+file_name).drop_duplicates()\n",
    "    return data_dict"
   ]
  },
  {
   "cell_type": "code",
   "execution_count": 3,
   "metadata": {},
   "outputs": [],
   "source": [
    "def processed_data_directory():\n",
    "    \"\"\" Makes 'processed_data' directory if one is not found.\n",
    "\n",
    "    Parameters\n",
    "    ----------\n",
    "    None\n",
    "    \"\"\"\n",
    "    # Add flag for this function\n",
    "    os.makedirs('./processed_data', exist_ok=True)\n",
    "    return None"
   ]
  },
  {
   "cell_type": "code",
   "execution_count": 4,
   "metadata": {},
   "outputs": [],
   "source": [
    "def add_uids(data_dictionary: dict):\n",
    "    \"\"\" This function adds a UID to each row to establish unique instances between person_id & measurement datetimes for the various tables.\n",
    "    \n",
    "    This is not done for the demographics file since the information in it is not sensitive to the hour.\n",
    "\n",
    "    Parameters\n",
    "    ----------\n",
    "    'data_dictionary' : dict\n",
    "        A dictionary of pandas DataFrames.\n",
    "    \n",
    "    Details\n",
    "    -------\n",
    "    * UID is a concatenation of datetime and person_id, in that order.\n",
    "    * UID is later used as a key for table joins.\n",
    "    \"\"\"\n",
    "    print(\"Adding UIDs.\")\n",
    "\n",
    "    for table_ind in list(data_dictionary.keys()):\n",
    "        if not table_ind.startswith(\"person_demographics\"):\n",
    "            table = data_dictionary[table_ind]\n",
    "            datetime_index = np.argmax([i.find('datetime') for i in table.columns])\n",
    "            date_column = table.columns[datetime_index]\n",
    "            personid_index = np.argmax([i.find('person_id') for i in table.columns])\n",
    "            personid_column = table.columns[personid_index]\n",
    "            table['uid'] = table[date_column].astype(str) + table[personid_column].astype(str)\n",
    "            table.drop(columns=[date_column,personid_column],inplace=True)\n",
    "            data_dictionary[table_ind] = table\n",
    "            # print(f'file {table_ind} with len {len(table)}')\n",
    "    \n",
    "    print(\"UIDs added\")\n",
    "    return None"
   ]
  },
  {
   "cell_type": "code",
   "execution_count": 5,
   "metadata": {},
   "outputs": [],
   "source": [
    "def birthday_management(data_dictionary: dict):\n",
    "    \"\"\"\n",
    "    This function processes the 'person_demographics' table of given data, which is inputed as a dictionary. The data in dictionary is replaced by index, hence function returns nothing.\n",
    "\n",
    "    Parameters\n",
    "    ----------\n",
    "    'data_dictionary' : dict\n",
    "        A dictionary of pandas DataFrames.\n",
    "    \n",
    "    Details\n",
    "    -------\n",
    "    * adds new birthday and visit start date columns with dates formated using datetime package.\n",
    "    * joins new columns to old table using left join to match the unprocessed to the processed date\n",
    "    \"\"\"\n",
    "    demographics_ind_no = np.argmax([table.startswith(\"person_demographics\") for table in data_dictionary.keys()])\n",
    "    demographics_index = list(data_dictionary.keys())[demographics_ind_no]\n",
    "    demographics = data_dictionary[demographics_index]\n",
    "    print(f\"Beginning processing for {demographics_index}.\")\n",
    "    \n",
    "\n",
    "    new_birthday_col = pd.DataFrame(columns=['birthday_formatted', 'person_id'])\n",
    "    new_visit_col = pd.DataFrame(columns=['visit_start_date','new_visit_startdate'])\n",
    "    \n",
    "    for person in np.unique(demographics['person_id']):\n",
    "        birthday = demographics[demographics['person_id']==person]['birth_datetime'].to_list()[0]\n",
    "        birthday_formatted = datetime.strptime(birthday,'%Y-%m-%d')\n",
    "        new_birthday_col.loc[len(new_birthday_col)] = [birthday_formatted, person]\n",
    "\n",
    "    for date in np.unique(demographics['visit_start_date']):\n",
    "        visit_start = demographics[demographics['visit_start_date']==date]['visit_start_date'].to_list()[0]\n",
    "        new_visit_startdate = datetime.strptime(visit_start,'%Y-%m-%d')\n",
    "        # print(f'new {new_visit_startdate} old {date}')\n",
    "        new_visit_col.loc[len(new_visit_col)] = [date, new_visit_startdate]\n",
    "\n",
    "\n",
    "    demographics = pd.merge(left=demographics,right=new_birthday_col,how='left',on='person_id')\n",
    "    demographics = pd.merge(left=demographics,right=new_visit_col,how='left',on='visit_start_date')\n",
    "    demographics.drop(columns=['visit_start_date','birth_datetime'],inplace=True)\n",
    "    demographics.to_csv(f'./processed_data/processed_{demographics_index}.csv')\n",
    "    data_dictionary[demographics_index] = demographics\n",
    "    print(f\"Finished processing of {demographics_index}.\")\n",
    "    return None"
   ]
  },
  {
   "cell_type": "code",
   "execution_count": 6,
   "metadata": {},
   "outputs": [],
   "source": [
    "def measurement_meds_processing(data_dictionary: dict):\n",
    "    \"\"\" This function processes the 'measurement_meds' table of given data, which is inputed in a dictionary. The data in dictionary is replaced by index, hence function returns nothing.\n",
    "\n",
    "    Parameters\n",
    "    ----------\n",
    "    'data_dictionary' : dict\n",
    "        A dictionary of pandas DataFrames.\n",
    "\n",
    "    Details\n",
    "    -------\n",
    "    * removes body temperature measurements > 46 C\n",
    "    * removes heart rate < 10 and > 250\n",
    "    * removes Systolic blood pressure > 250\n",
    "    * removes Diastolic blood pressure > 200\n",
    "    * removes Respiratory rate > 200\n",
    "    * removes Measurement of oxygen saturation at periphery > 150\n",
    "    * removes Oxygen/Gas total [Pure volume fraction] Inhaled gas > 80\n",
    "    \"\"\"\n",
    "    body_measurements_ind = np.argmax([table.startswith(\"measurement_meds\") for table in data_dictionary.keys()])\n",
    "    body_measurements_index = list(data_dictionary.keys())[body_measurements_ind]\n",
    "    measurements = data_dictionary[body_measurements_index]\n",
    "    print(f\"Beginning processing for {body_measurements_index}.\")\n",
    "\n",
    "    \n",
    "    measurements = measurements.dropna(subset=measurements.select_dtypes(float).columns, how='all')\n",
    "    # measurements.drop(index=[i for i in measurements[measurements['Body temperature']>45].index], axis=1,inplace=True)\n",
    "    measurements['Body temperature'] = measurements['Body temperature'].apply(lambda x: np.nan if x > 46 else x)\n",
    "    measurements['Heart rate'] = measurements['Heart rate'].apply(lambda x: np.nan if ((x < 10) | (x > 250)) else x)\n",
    "    measurements['Systolic blood pressure'] = measurements['Systolic blood pressure'].apply(lambda x: np.nan if x > 250 else x)\n",
    "    measurements['Diastolic blood pressure'] = measurements['Diastolic blood pressure'].apply(lambda x: np.nan if x > 200 else x)\n",
    "    measurements['Respiratory rate'] = measurements['Respiratory rate'].apply(lambda x: np.nan if x > 200 else x)\n",
    "    measurements['Measurement of oxygen saturation at periphery'] = measurements['Measurement of oxygen saturation at periphery'].apply(lambda x: np.nan if x > 150 else x)\n",
    "    measurements['Oxygen/Gas total [Pure volume fraction] Inhaled gas'] = measurements['Oxygen/Gas total [Pure volume fraction] Inhaled gas'].apply(lambda x: np.nan if x > 80 else x)\n",
    "    measurements.to_csv(f'./processed_data/processed_{body_measurements_index}.csv')\n",
    "    data_dictionary[body_measurements_index] = measurements\n",
    "    print(f\"Finished processing of {body_measurements_index}.\")\n",
    "    return None"
   ]
  },
  {
   "cell_type": "code",
   "execution_count": 7,
   "metadata": {},
   "outputs": [],
   "source": [
    "def drugs_exposure_processing(data_dictionary: dict):\n",
    "    \"\"\" This function processes the 'drugsexposure' table of given data, which is inputed in a dictionary. The data in dictionary is replaced by index, hence function returns nothing.\n",
    "\n",
    "    Parameters\n",
    "    ----------\n",
    "    'data_dictionary' : dict\n",
    "        A dictionary of pandas DataFrames.\n",
    "\n",
    "    Requirements\n",
    "    ------------\n",
    "    You need to run add_uids first.\n",
    "\n",
    "    Details\n",
    "    -------\n",
    "    * combines rows of the same datetime with different drugs to be one row per datetime with all drugs listed in new 'drugs' column and all drug routes listed in new 'routes' column\n",
    "    * converts from list to string for new columns to allow categorical encoding later on\n",
    "    \"\"\"\n",
    "    # assert uids_added == True, 'You need to run add_uids before this function.'\n",
    "    drugs_exposure_ind = np.argmax([table.startswith(\"drugsexposure\") for table in data_dictionary.keys()])\n",
    "    drugs_exposure_index = list(data_dictionary.keys())[drugs_exposure_ind]\n",
    "    drugs_exposure = data_dictionary[drugs_exposure_index]\n",
    "    drugs_exposure.reset_index(inplace = True, drop = True)\n",
    "    print(f\"Beginning processing for {drugs_exposure_index}.\")\n",
    "\n",
    "    drugs_exposure = pd.get_dummies(drugs_exposure, columns = ['drug_concept_id', 'route_concept_id'], drop_first = True, prefix=\"ohe\", prefix_sep=\"_\", dtype=float)\n",
    "    # drugs_exposure_processed = pd.DataFrame(columns = ['uid', 'drugs', 'routes', 'visit_occurrence_id'])\n",
    "    \n",
    "    # for x in tqdm(np.unique(drugs_exposure['uid'])):\n",
    "    #     drugs = drugs_exposure[drugs_exposure['uid']==x]['drug_concept_id'].to_list()\n",
    "    #     drugs.sort()\n",
    "    #     try:\n",
    "    #         route = drugs_exposure[drugs_exposure['uid']==x]['route_concept_id'].to_list()\n",
    "    #         route = list(set(route))\n",
    "    #         route = [str(i) for i in route]\n",
    "    #         route.sort()\n",
    "    #     except:\n",
    "    #         route = drugs_exposure[drugs_exposure['uid']==x]['route_concept_id'].to_list()\n",
    "    #         route = list(set(route))\n",
    "    #     visit_occurrence = drugs_exposure[drugs_exposure['uid']==x]['visit_occurrence_id'].to_list()[0]\n",
    "    #     drugs_exposure_processed.loc[len(drugs_exposure_processed)]= [x,drugs,route, visit_occurrence]\n",
    "    # # switching format from list to string for later processing of categorical data:\n",
    "    # for row in drugs_exposure_processed['drugs']:\n",
    "    #     row = str(row)[1:-1]\n",
    "    # for row in drugs_exposure_processed['routes']:\n",
    "    #     row = str(row)[1:-1]\n",
    "\n",
    "\n",
    "    # drugs_exposure_processed['drugs'] = drugs_exposure_processed['drugs'].apply(lambda x: str(x)[1:-1])\n",
    "    # drugs_exposure_processed['drugs'] = drugs_exposure_processed['drugs'].apply(lambda x: np.nan if x=='a' else x)\n",
    "    # drugs_exposure_processed['routes'] = drugs_exposure_processed['routes'].apply(lambda x: np.nan if x is str else str(x)[1:-1])\n",
    "    # drugs_exposure_processed['routes'] = drugs_exposure_processed['routes'].apply(lambda x: np.nan if x=='a' else x)\n",
    "\n",
    "    # data_dictionary[drugs_exposure_index] = drugs_exposure_processed\n",
    "\n",
    "\n",
    "    drugs_count = pd.DataFrame([list(i) for i in Counter(drugs_exposure['uid']).items()],columns=['uid','count'])\n",
    "    drugs_count['count'].astype(int)\n",
    "    drugs_rows = []\n",
    "    drugs_extras = drugs_count[drugs_count['count']>1]\n",
    "    for j in tqdm([i for i in drugs_extras['uid']]):\n",
    "        new_row = drugs_exposure[drugs_exposure['uid']==j].max().to_frame().T.values.tolist()\n",
    "        drugs_rows.extend(new_row)\n",
    "        # drugs_rows = pd.concat([drugs_rows,drugs_exposure[drugs_exposure['uid']==j].max().to_frame().T]).reset_index(drop=True)\n",
    "    # drugs_extras_ind = drugs_extras.index\n",
    "    # print(f'first len {len(drugs_exposure)}')\n",
    "    drugs_exposure.drop_duplicates(subset='uid', keep = False, inplace=True)\n",
    "    # drugs_exposure = drugs_exposure.drop(index=drugs_extras_ind, axis=1,inplace=False)\n",
    "    # print(f'after len {len(drugs_exposure)}')\n",
    "    drugs_rows_df = pd.DataFrame(drugs_rows, columns = drugs_exposure.columns)\n",
    "    drugs_exposure = pd.concat([drugs_exposure,drugs_rows_df]).reset_index(drop=True)\n",
    "    data_dictionary[drugs_exposure_index] = drugs_exposure\n",
    "    drugs_exposure.to_csv(f'./processed_data/processed_{drugs_exposure_index}.csv')\n",
    "    print(f\"Finished processing of {drugs_exposure_index}.\")\n",
    "    return None"
   ]
  },
  {
   "cell_type": "code",
   "execution_count": 8,
   "metadata": {},
   "outputs": [],
   "source": [
    "def measurement_lab_processing(data_dictionary: dict):\n",
    "    \"\"\" This function processes the 'measurement_lab' table of given data, which is inputed in a dictionary. The data in dictionary is replaced by index, hence function returns nothing.\n",
    "\n",
    "    Parameters\n",
    "    ----------\n",
    "    'data_dictionary' : dict\n",
    "        A dictionary of pandas DataFrames.\n",
    "\n",
    "    Requirements\n",
    "    ------------\n",
    "    You need to run add_uids first.\n",
    "\n",
    "    Details\n",
    "    -------\n",
    "    * removes rows which are all NA\n",
    "    * combines rows which have the same datetime but different columns filled (different columns have non-NA values)\n",
    "    * converts columns to float to resolve typing issue\n",
    "    \"\"\"\n",
    "    # assert uids_added == True, 'You need to run add_uids before this function.'\n",
    "\n",
    "    measurement_lab_ind = np.argmax([table.startswith(\"measurement_lab\") for table in data_dictionary.keys()])\n",
    "    measurement_lab_index = list(data_dictionary.keys())[measurement_lab_ind]\n",
    "    measurement_lab = data_dictionary[measurement_lab_index]\n",
    "    print(f\"Beginning processing for {measurement_lab_index}.\")\n",
    "\n",
    "    measurement_lab['Blood arterial pH'] = measurement_lab['Blood arterial pH'].apply(lambda x: np.nan if x > 30 else x)\n",
    "    measurement_lab['Base excess in Venous blood by calculation'] = measurement_lab['Base excess in Venous blood by calculation'].apply(lambda x: np.nan if x > 30 else x)\n",
    "    measurement_lab['Base excess in Arterial blood by calculation'] = measurement_lab['Base excess in Arterial blood by calculation'].apply(lambda x: np.nan if x > 50 else x)\n",
    "    measurement_lab['Phosphate [Moles/volume] in Serum or Plasma'] = measurement_lab['Phosphate [Moles/volume] in Serum or Plasma'].apply(lambda x: np.nan if x > 50 else x)\n",
    "    measurement_lab['Potassium [Moles/volume] in Blood'] = measurement_lab['Potassium [Moles/volume] in Blood'].apply(lambda x: np.nan if x > 50 else x)\n",
    "    measurement_lab['Bilirubin.total [Moles/volume] in Serum or Plasma'] = measurement_lab['Bilirubin.total [Moles/volume] in Serum or Plasma'].apply(lambda x: np.nan if x > 700 else x)\n",
    "    # Leaving 'Neutrophil Ab [Units/volume] in Serum' as is\n",
    "    # Leaving 'Bicarbonate [Moles/volume] in Arterial blood' as is\n",
    "    measurement_lab['Hematocrit [Volume Fraction] of Blood'] = measurement_lab['Hematocrit [Volume Fraction] of Blood'].apply(lambda x: np.nan if x > 150 else x)\n",
    "    measurement_lab['Glucose [Moles/volume] in Serum or Plasma'] = measurement_lab['Glucose [Moles/volume] in Serum or Plasma'].apply(lambda x: np.nan if x > 800 else x)\n",
    "    measurement_lab['Calcium [Moles/volume] in Serum or Plasma'] = measurement_lab['Calcium [Moles/volume] in Serum or Plasma'].apply(lambda x: np.nan if x > 20 else x)\n",
    "    # Leaving 'Chloride [Moles/volume] in Blood' as is\n",
    "    # Leaving 'Sodium [Moles/volume] in Serum or Plasma' as is\n",
    "    measurement_lab['C reactive protein [Mass/volume] in Serum or Plasma'] = measurement_lab['C reactive protein [Mass/volume] in Serum or Plasma'].apply(lambda x: np.nan if x > 500 else x)\n",
    "    # Leaving 'Carbon dioxide [Partial pressure] in Venous blood' as is\n",
    "    measurement_lab['Oxygen [Partial pressure] in Venous blood'] = measurement_lab['Oxygen [Partial pressure] in Venous blood'].apply(lambda x: np.nan if x > 400 else x)\n",
    "    # Leaving 'Albumin [Mass/volume] in Serum or Plasma' as is\n",
    "    measurement_lab['Bicarbonate [Moles/volume] in Venous blood'] = measurement_lab['Bicarbonate [Moles/volume] in Venous blood'].apply(lambda x: np.nan if x > 80 else x)\n",
    "    # Cuts off a couple on right side: (some of the above do too)\n",
    "    measurement_lab['Oxygen [Partial pressure] in Arterial blood'] = measurement_lab['Oxygen [Partial pressure] in Arterial blood'].apply(lambda x: np.nan if x > 400 else x)\n",
    "    # Leaving 'Carbon dioxide [Partial pressure] in Arterial blood' as is\n",
    "    measurement_lab['Interleukin 6 [Mass/volume] in Body fluid'] = measurement_lab['Interleukin 6 [Mass/volume] in Body fluid'].apply(lambda x: np.nan if x > 800 else x)\n",
    "    measurement_lab['Magnesium [Moles/volume] in Blood'] = measurement_lab['Magnesium [Moles/volume] in Blood'].apply(lambda x: np.nan if x > 10 else x)\n",
    "    measurement_lab['Prothrombin time (PT)'] = measurement_lab['Prothrombin time (PT)'].apply(lambda x: np.nan if x > 60 else x)\n",
    "    measurement_lab['Procalcitonin [Mass/volume] in Serum or Plasma'] = measurement_lab['Procalcitonin [Mass/volume] in Serum or Plasma'].apply(lambda x: np.nan if x > 500 else x)\n",
    "    measurement_lab['Lactate [Moles/volume] in Blood'] = measurement_lab['Lactate [Moles/volume] in Blood'].apply(lambda x: np.nan if x > 60 else x)\n",
    "    measurement_lab['Creatinine [Mass/volume] in Blood'] = measurement_lab['Creatinine [Mass/volume] in Blood'].apply(lambda x: np.nan if x > 500 else x)\n",
    "    measurement_lab['Fibrinogen measurement'] = measurement_lab['Fibrinogen measurement'].apply(lambda x: np.nan if x > 50 else x)\n",
    "    measurement_lab['Bilirubin measurement'] = measurement_lab['Bilirubin measurement'].apply(lambda x: np.nan if x > 500 else x)\n",
    "    # Leaving 'Partial thromboplastin time' as is\n",
    "    measurement_lab[' activated'] = measurement_lab[' activated'].apply(lambda x: np.nan if x > 100 else x)\n",
    "    # Leaving 'Total white blood count' as is\n",
    "    # Leaving 'Platelet count' as is\n",
    "    # Is this correct for WBC vs Total WBC (column referenced above)\n",
    "    measurement_lab['White blood cell count'] = measurement_lab['White blood cell count'].apply(lambda x: np.nan if x > 100 else x)\n",
    "    measurement_lab['Blood venous pH'] = measurement_lab['Blood venous pH'].apply(lambda x: np.nan if x > 14 else x)\n",
    "    measurement_lab['D-dimer level'] = measurement_lab['D-dimer level'].apply(lambda x: np.nan if x > 20 else x)\n",
    "    measurement_lab['Blood arterial pH'] = measurement_lab['Blood arterial pH'].apply(lambda x: np.nan if x > 14 else x)\n",
    "    measurement_lab['Hemoglobin [Moles/volume] in Blood'] = measurement_lab['Hemoglobin [Moles/volume] in Blood'].apply(lambda x: np.nan if x > 20 else x)\n",
    "\n",
    "    nan_col_inds = list(measurement_lab.isna().all())\n",
    "    nan_col_indices = list(measurement_lab.loc[:,nan_col_inds].columns)\n",
    "    measurement_lab.drop(columns=nan_col_indices, inplace=True)\n",
    "\n",
    "    measurement_lab = measurement_lab.dropna(subset=list(measurement_lab.select_dtypes(float).columns), how='all')\n",
    "    measurement_lab_count = pd.DataFrame([list(i) for i in Counter(measurement_lab['uid']).items()],columns=['uid','count'])\n",
    "    measurement_lab_count['count'].astype(int)\n",
    "    measurement_lab_rows = pd.DataFrame()\n",
    "    measurement_lab_extras = measurement_lab_count[measurement_lab_count['count']>1]\n",
    "    for j in [i for i in measurement_lab_extras['uid']]:\n",
    "        measurement_lab_rows = pd.concat([measurement_lab_rows,measurement_lab[measurement_lab['uid']==j].max().to_frame().T]).reset_index(drop=True)\n",
    "    # measurement_lab_extras_ind = measurement_lab_extras.index\n",
    "    # measurement_lab = measurement_lab.drop(index=measurement_lab_extras_ind, axis=1,inplace=False)\n",
    "    measurement_lab = measurement_lab.drop_duplicates(subset='uid', keep = False, inplace=False)\n",
    "    if measurement_lab_rows.empty == False:\n",
    "        measurement_lab = pd.concat([measurement_lab,measurement_lab_rows]).reset_index(drop=True)\n",
    "\n",
    "    col_inds = [not((i.endswith('_id')) or (i=='uid')) for i in list(measurement_lab.columns)]\n",
    "    col_names = measurement_lab.columns.values[col_inds]\n",
    "    for column in col_names:\n",
    "        measurement_lab[column] = measurement_lab[column].astype(float)\n",
    "\n",
    "    measurement_lab.to_csv(f'./processed_data/processed_{measurement_lab_index}.csv')\n",
    "    data_dictionary[measurement_lab_index] = measurement_lab\n",
    "    print(f\"Finished processing of {measurement_lab_index}.\")\n",
    "    return None"
   ]
  },
  {
   "cell_type": "code",
   "execution_count": 9,
   "metadata": {},
   "outputs": [],
   "source": [
    "def measurement_observation_processing(data_dictionary: dict):\n",
    "    \"\"\" This function processes the 'measurement_observation' table of given data, which is inputed in a dictionary. The data in dictionary is replaced by index, hence function returns nothing.\n",
    "\n",
    "    Parameters\n",
    "    ----------\n",
    "    'data_dictionary' : dict\n",
    "        A dictionary of pandas DataFrames.\n",
    "    \n",
    "    Details\n",
    "    -------\n",
    "    * creates csv to verify this table has been processed.\n",
    "    \"\"\"\n",
    "\n",
    "    measurement_obs_ind = np.argmax([table.startswith(\"measurement_observation\") for table in data_dictionary.keys()])\n",
    "    measurement_obs_index = list(data_dictionary.keys())[measurement_obs_ind]\n",
    "    measurement_obs = data_dictionary[measurement_obs_index]\n",
    "    print(f\"Beginning processing for {measurement_obs_index}.\")\n",
    "\n",
    "    # measurement_obs = measurement_obs.dropna(subset=measurement_obs.select_dtypes(float).columns, how='all')\n",
    "    measurement_obs.to_csv(f'./processed_data/processed_{measurement_obs_index}.csv')\n",
    "    data_dictionary[measurement_obs_index] = measurement_obs\n",
    "    print(f\"Finished processing of {measurement_obs_index}.\")\n",
    "    return None"
   ]
  },
  {
   "cell_type": "code",
   "execution_count": 10,
   "metadata": {},
   "outputs": [],
   "source": [
    "def observation_processing(data_dictionary: dict):\n",
    "    \"\"\" This function processes the 'observation' table of given data, which is inputed in a dictionary. The data in dictionary is replaced by index, hence function returns nothing.\n",
    "\n",
    "    Parameters\n",
    "    ----------\n",
    "    'data_dictionary' : dict\n",
    "        A dictionary of pandas DataFrames.\n",
    "    \n",
    "    Details\n",
    "    -------\n",
    "    * creates csv to verify this table has been processed.\n",
    "    * removes columns 'observation_concept_id' and 'observation_concept_name' which each have only one value filled to all rows.\n",
    "    \"\"\"\n",
    "\n",
    "    observation_ind = np.argmax([table.startswith(\"observation\") for table in data_dictionary.keys()])\n",
    "    observation_index = list(data_dictionary.keys())[observation_ind]\n",
    "    observation = data_dictionary[observation_index]\n",
    "    print(f\"Beginning processing for {observation_index}.\")\n",
    "    observation.drop(columns=['observation_concept_id','observation_concept_name'], inplace = True)\n",
    "\n",
    "\n",
    "    observation = observation.dropna(subset=observation.select_dtypes(object).columns, how='all')\n",
    "\n",
    "    observation.to_csv(f'./processed_data/processed_{observation_index}.csv')\n",
    "\n",
    "    data_dictionary[observation_index] = observation \n",
    "    print(f\"Finished processing of {observation_index}.\")\n",
    "    return None"
   ]
  },
  {
   "cell_type": "code",
   "execution_count": 11,
   "metadata": {},
   "outputs": [],
   "source": [
    "def procedures_processing(data_dictionary: dict):\n",
    "    \"\"\" This function processes the 'observation' table of given data, which is inputed in a dictionary. The data in dictionary is replaced by index, hence function returns nothing.\n",
    "\n",
    "    Parameters\n",
    "    ----------\n",
    "    'data_dictionary' : dict\n",
    "        A dictionary of pandas DataFrames.\n",
    "\n",
    "    Requirements\n",
    "    ------------\n",
    "    You need to run add_uids first.\n",
    "    \n",
    "    Details\n",
    "    -------\n",
    "    * drops visit_occurrence column\n",
    "    * drops duplicate entries\n",
    "    \"\"\"\n",
    "    # assert uids_added == True, 'You need to run add_uids before this function.'\n",
    "\n",
    "    procedures_ind = np.argmax([table.startswith(\"proceduresoccurrences\") for table in data_dictionary.keys()])\n",
    "    procedures_index = list(data_dictionary.keys())[procedures_ind]\n",
    "    procedures = data_dictionary[procedures_index]\n",
    "    print(f\"Beginning processing for {procedures_index}.\")\n",
    "\n",
    "    procedures = procedures.dropna(subset=procedures.select_dtypes(object).columns, how='all')\n",
    "\n",
    "\n",
    "    visit_id_index = np.argmax([i.find('visit_occurrence') for i in procedures.columns])\n",
    "    visit_column = procedures.columns[visit_id_index]\n",
    "    procedures.drop(columns=visit_column,inplace=True)\n",
    "    procedures.drop_duplicates(inplace=True)\n",
    "\n",
    "    procedures.to_csv(f'./processed_data/processed_{procedures_index}.csv')\n",
    "\n",
    "\n",
    "    data_dictionary[procedures_index] = procedures \n",
    "    print(f\"Finished processing of {procedures_index}.\")\n",
    "    return None"
   ]
  },
  {
   "cell_type": "code",
   "execution_count": 12,
   "metadata": {},
   "outputs": [],
   "source": [
    "def devices_processing(data_dictionary: dict):\n",
    "    \"\"\" This function processes the 'devices' table of given data, which is inputed in a dictionary. The data in dictionary is replaced by index, hence function returns nothing.\n",
    "\n",
    "    Parameters\n",
    "    ----------\n",
    "    'data_dictionary' : dict\n",
    "        A dictionary of pandas DataFrames.\n",
    "    \n",
    "    Details\n",
    "    -------\n",
    "    * creates csv to verify this table has been processed.\n",
    "    \"\"\"\n",
    "\n",
    "    devices_ind = np.argmax([table.startswith(\"devices\") for table in data_dictionary.keys()])\n",
    "    devices_index = list(data_dictionary.keys())[devices_ind]\n",
    "    devices = data_dictionary[devices_index]\n",
    "    print(f\"Beginning processing for {devices_index}.\")\n",
    "\n",
    "    devices = devices.dropna(subset=devices.select_dtypes(object).columns, how='all')\n",
    "    devices.drop_duplicates(inplace=True)\n",
    "\n",
    "    visit_id_index = np.argmax([i.find('visit_occurrence') for i in devices.columns])\n",
    "    visit_column = devices.columns[visit_id_index]\n",
    "    devices.drop(columns=visit_column,inplace=True)\n",
    "\n",
    "    devices = pd.get_dummies(devices, columns = ['device'], drop_first = True, prefix=\"ohe\", prefix_sep=\"_\", dtype=float)\n",
    "\n",
    "    devices_count = pd.DataFrame([list(i) for i in Counter(devices['uid']).items()],columns=['uid','count'])\n",
    "    devices_count['count'].astype(int)\n",
    "    devices_rows = []\n",
    "    devices_extras = devices_count[devices_count['count']>1]\n",
    "    for j in tqdm([i for i in devices_extras['uid']]):\n",
    "        new_row = devices[devices['uid']==j].max().to_frame().T.values.tolist()\n",
    "        devices_rows.extend(new_row)\n",
    "\n",
    "    devices.drop_duplicates(subset='uid', keep = False, inplace=True)\n",
    "    devices_rows_df = pd.DataFrame(devices_rows, columns = devices.columns)\n",
    "    if devices_rows_df.empty == False:\n",
    "        devices = pd.concat([devices,devices_rows_df]).reset_index(drop=True)\n",
    "\n",
    "    devices.to_csv(f'./processed_data/processed_{devices_index}.csv')\n",
    "\n",
    "    data_dictionary[devices_index] = devices\n",
    "    print(f\"Finished processing of {devices_index}.\")\n",
    "    return None"
   ]
  },
  {
   "cell_type": "code",
   "execution_count": 13,
   "metadata": {},
   "outputs": [],
   "source": [
    "def sepsis_processing(data_dictionary: dict):\n",
    "    \"\"\" This function processes the 'sepsis' table of given data, which is inputed in a dictionary. The data in dictionary is replaced by index, hence function returns nothing.\n",
    "\n",
    "    Parameters\n",
    "    ----------\n",
    "    'data_dictionary' : dict\n",
    "        A dictionary of pandas DataFrames.\n",
    "    \n",
    "    Details\n",
    "    -------\n",
    "    * drops values which have no datetime\n",
    "    \"\"\"\n",
    "    sepsis_ind = np.argmax([table.startswith(\"SepsisLabel\") for table in data_dictionary.keys()])\n",
    "    sepsis_index = list(data_dictionary.keys())[sepsis_ind]\n",
    "    sepsis = data_dictionary[sepsis_index]\n",
    "    print(f\"Beginning processing for {sepsis_index}.\")\n",
    "\n",
    "    #Taking out values that have no datetime:\n",
    "    no_time_rows = list(sepsis.loc[sepsis['uid'].str.startswith('nan', na=False)].index)\n",
    "    sepsis = sepsis.drop(index=no_time_rows, axis = 1, inplace = False)\n",
    "    \n",
    "    data_dictionary[sepsis_index] = sepsis\n",
    "    sepsis.to_csv(f'./processed_data/processed_{sepsis_index}.csv')\n",
    "    \n",
    "    print(f\"Finished processing of {sepsis_index}.\")\n",
    "    return None"
   ]
  },
  {
   "cell_type": "code",
   "execution_count": 14,
   "metadata": {},
   "outputs": [],
   "source": [
    "def process_data(data_type: str, load_tables: str):\n",
    "    \"\"\" This function reads in test or train data and goes through functions to preprocess it. For further details see specific functions.\n",
    "\n",
    "    Processed tables will be saved into the /processed folder.\n",
    "\n",
    "    Parameters\n",
    "    ----------\n",
    "    'data_type' : str\n",
    "        This must be 'test' or 'train'. Determines which data to process.\n",
    "    'load_tables' : str\n",
    "        This must be 'yes' or 'no'. 'yes' means load csvs from processed_data folder, of the type given in 'data_type' input. 'no' means process data from training or testing folder, depending on 'data_type' input given.\n",
    "    \n",
    "    Returns\n",
    "    -------\n",
    "    'processed_data' : dict\n",
    "        This is a dictionary of datatables that have been processed\n",
    "    'factors' : DataFrame\n",
    "        This is a DataFrame of the data from 'processed_data' joined together.\n",
    "    \"\"\"\n",
    "    assert (data_type=='test') or (data_type=='train'), f'You gave data_type as {data_type}. Please define data_type as \"test\" or \"train.\"'\n",
    "    assert (load_tables=='yes') or (load_tables=='no'), f'You gave load_tables as {load_tables}. Please define load_tables as \"test\" or \"train.\"'\n",
    "\n",
    "    processed_data_directory()\n",
    "\n",
    "    if data_type == 'train':\n",
    "        if load_tables == 'no':\n",
    "            training_data = readin_data('train')\n",
    "            add_uids(training_data)\n",
    "            birthday_management(training_data)\n",
    "            measurement_meds_processing(training_data)\n",
    "            drugs_exposure_processing(training_data)\n",
    "            measurement_lab_processing(training_data)\n",
    "            procedures_processing(training_data)\n",
    "            observation_processing(training_data)\n",
    "            measurement_observation_processing(training_data)\n",
    "            devices_processing(training_data)\n",
    "            sepsis_processing(training_data)\n",
    "        else:\n",
    "            training_data={}\n",
    "            inner_directory = './processed_data/'\n",
    "            data_list = os.listdir('./processed_data')\n",
    "            separator = '_'\n",
    "            for file_name in data_list:\n",
    "                if file_name.split('.')[0].split('_')[-1]=='train':\n",
    "                    training_data[separator.join(file_name.split('.')[0].split('_')[1:])] = pd.read_csv(inner_directory+file_name,index_col=0).drop_duplicates()\n",
    "\n",
    "        factors = pd.merge(left=training_data['measurement_meds_train'], right=training_data['measurement_lab_train'],how='outer',on='uid')\n",
    "        factors = pd.merge(left=factors, right=training_data['drugsexposure_train'],how='outer',on='uid')\n",
    "        factors = pd.merge(left=factors, right=training_data['proceduresoccurrences_train'],how='outer',on='uid')\n",
    "        factors = pd.merge(left=factors, right=training_data['devices_train'],how='outer',on='uid')\n",
    "        # factors = pd.merge(left=factors, right=training_data['person_demographics_episode_train'], how='outer',on='visit_occurrence_id')\n",
    "        factors = pd.merge(left=training_data['SepsisLabel_train'],right=factors,how='left',on='uid')\n",
    "        factors.to_csv(f'./processed_data/factors_train.csv')\n",
    "        processed_data = training_data\n",
    "\n",
    "    else:\n",
    "        if load_tables == 'no':\n",
    "            testing_data = readin_data('test')\n",
    "            add_uids(testing_data)\n",
    "            birthday_management(testing_data)\n",
    "            measurement_meds_processing(testing_data)\n",
    "            drugs_exposure_processing(testing_data)\n",
    "            measurement_lab_processing(testing_data)\n",
    "            procedures_processing(testing_data)\n",
    "            observation_processing(testing_data)\n",
    "            measurement_observation_processing(testing_data)\n",
    "            devices_processing(testing_data)\n",
    "            sepsis_processing(testing_data)\n",
    "        else:\n",
    "            training_data={}\n",
    "            inner_directory = './processed_data/'\n",
    "            data_list = os.listdir('./processed_data')\n",
    "            separator = '_'\n",
    "            for file_name in data_list:\n",
    "                if file_name.split('.')[0].split('_')[-1]=='test':\n",
    "                    training_data[separator.join(file_name.split('.')[0].split('_')[1:])] = pd.read_csv(inner_directory+file_name,index_col=0).drop_duplicates()\n",
    "            \n",
    "        factors = pd.merge(left=testing_data['measurement_meds_test'], right=testing_data['measurement_lab_test'],how='outer',on='uid')\n",
    "        factors = pd.merge(left=factors, right=testing_data['drugsexposure_test'],how='outer',on='uid')\n",
    "        factors = pd.merge(left=factors, right=testing_data['proceduresoccurrences_test'],how='outer',on='uid')\n",
    "        factors = pd.merge(left=factors, right=testing_data['devices_test'],how='outer',on='uid')\n",
    "        # factors = pd.merge(left=factors, right=testing_data['person_demographics_episode_test'], how='outer',on='visit_occurrence_id')\n",
    "        print(f\"factors length {len(factors)} and sepsis has {len(testing_data['SepsisLabel_test'])}\")\n",
    "        factors = pd.merge(left=testing_data['SepsisLabel_test'],right=factors,how='left',on='uid')\n",
    "        print(f'post merge factors {len(factors)}')\n",
    "        factors.to_csv(f'./processed_data/factors_test.csv')\n",
    "        processed_data = testing_data\n",
    "\n",
    "    factors.drop(columns=['visit_occurrence_id_x','visit_occurrence_id_y'],inplace=True)\n",
    "\n",
    "    return processed_data, factors"
   ]
  },
  {
   "cell_type": "markdown",
   "metadata": {},
   "source": [
    "##### Processing Data using cummulative function"
   ]
  },
  {
   "cell_type": "code",
   "execution_count": 15,
   "metadata": {},
   "outputs": [
    {
     "name": "stdout",
     "output_type": "stream",
     "text": [
      "Adding UIDs.\n",
      "UIDs added\n",
      "Beginning processing for person_demographics_episode_train.\n",
      "Finished processing of person_demographics_episode_train.\n",
      "Beginning processing for measurement_meds_train.\n",
      "Finished processing of measurement_meds_train.\n",
      "Beginning processing for drugsexposure_train.\n"
     ]
    },
    {
     "name": "stderr",
     "output_type": "stream",
     "text": [
      "100%|██████████| 27594/27594 [06:43<00:00, 68.32it/s]\n"
     ]
    },
    {
     "name": "stdout",
     "output_type": "stream",
     "text": [
      "Finished processing of drugsexposure_train.\n",
      "Beginning processing for measurement_lab_train.\n"
     ]
    },
    {
     "name": "stderr",
     "output_type": "stream",
     "text": [
      "C:\\Users\\pears\\AppData\\Local\\Temp\\ipykernel_8500\\1046424080.py:81: FutureWarning: The behavior of DataFrame concatenation with empty or all-NA entries is deprecated. In a future version, this will no longer exclude empty or all-NA columns when determining the result dtypes. To retain the old behavior, exclude the relevant entries before the concat operation.\n",
      "  measurement_lab = pd.concat([measurement_lab,measurement_lab_rows]).reset_index(drop=True)\n"
     ]
    },
    {
     "name": "stdout",
     "output_type": "stream",
     "text": [
      "Finished processing of measurement_lab_train.\n",
      "Beginning processing for proceduresoccurrences_train.\n",
      "Finished processing of proceduresoccurrences_train.\n",
      "Beginning processing for observation_train.\n",
      "Finished processing of observation_train.\n",
      "Beginning processing for measurement_observation_train.\n",
      "Finished processing of measurement_observation_train.\n",
      "Beginning processing for devices_train.\n"
     ]
    },
    {
     "name": "stderr",
     "output_type": "stream",
     "text": [
      "0it [00:00, ?it/s]\n"
     ]
    },
    {
     "name": "stdout",
     "output_type": "stream",
     "text": [
      "Finished processing of devices_train.\n",
      "Beginning processing for SepsisLabel_train.\n",
      "Finished processing of SepsisLabel_train.\n"
     ]
    }
   ],
   "source": [
    "training_data, data_factors = process_data(data_type='train', load_tables='no')"
   ]
  },
  {
   "cell_type": "code",
   "execution_count": null,
   "metadata": {},
   "outputs": [
    {
     "name": "stdout",
     "output_type": "stream",
     "text": [
      "Adding UIDs.\n",
      "UIDs added\n",
      "Beginning processing for person_demographics_episode_test.\n",
      "Finished processing of person_demographics_episode_test.\n",
      "Beginning processing for measurement_meds_test.\n",
      "Finished processing of measurement_meds_test.\n",
      "Beginning processing for drugsexposure_test.\n"
     ]
    },
    {
     "name": "stderr",
     "output_type": "stream",
     "text": [
      " 80%|███████▉  | 8756/10995 [00:56<00:15, 147.52it/s]"
     ]
    }
   ],
   "source": [
    "testing_data, test_data_factors = process_data(data_type='test', load_tables='no')"
   ]
  },
  {
   "cell_type": "code",
   "execution_count": 17,
   "metadata": {},
   "outputs": [],
   "source": [
    "# trained_data, trained_factors = process_data(data_type='train', load_tables='yes')"
   ]
  },
  {
   "cell_type": "code",
   "execution_count": 18,
   "metadata": {},
   "outputs": [],
   "source": [
    "def merge_data(data_directory: dict, data_type: str):\n",
    "    \"\"\" This function takes a data dictionary of tables and merges to have a table of factors for categorical encoding etc.\n",
    "\n",
    "    \n",
    "    note that this function is currently untested.\n",
    "    \n",
    "    Parameters\n",
    "    ----------\n",
    "    'data_directory' : dict\n",
    "        This is a data dictionary of pandas DataFrames.\n",
    "    'data_type' : str\n",
    "        This must be 'test' or 'train'.\n",
    "    \n",
    "    Returns\n",
    "    -------\n",
    "    'factors' : DataFrame\n",
    "        This is a DataFrame of the data from 'processed_data' joined together.    \n",
    "    \"\"\"\n",
    "    #Untested\n",
    "    assert (data_type=='test') or (data_type=='train'), f'You gave data_type as {data_type}. Please define data_type as \"test\" or \"train.\"'\n",
    "\n",
    "    if data_type == 'train':\n",
    "        training_data = data_directory.copy()\n",
    "\n",
    "        factors = pd.merge(left=training_data['measurement_meds_train'], right=training_data['measurement_lab_train'],how='outer',on='uid')\n",
    "        factors = pd.merge(left=factors, right=training_data['drugsexposure_train'],how='outer',on='uid')\n",
    "        factors = pd.merge(left=factors, right=training_data['proceduresoccurrences_train'],how='outer',on='uid')\n",
    "        # factors = pd.merge(left=factors, right=training_data['person_demographics_episode_train'], how='outer',on='visit_occurrence_id')\n",
    "        factors = pd.merge(left=factors, right=training_data['devices_train'],how='outer',on='uid')\n",
    "        factors = pd.merge(left=training_data['SepsisLabel_train'],right=factors,how='left',on='uid')\n",
    "        factors.to_csv(f'./processed_data/processed_train_{factors}.csv')\n",
    "\n",
    "    else:\n",
    "        testing_data = data_directory.copy()\n",
    "\n",
    "        factors = pd.merge(left=testing_data['measurement_meds_test'], right=testing_data['measurement_lab_test'],how='outer',on='uid')\n",
    "        factors = pd.merge(left=factors, right=testing_data['drugsexposure_test'],how='outer',on='uid')\n",
    "        factors = pd.merge(left=factors, right=testing_data['proceduresoccurrences_test'],how='outer',on='uid')\n",
    "        # factors = pd.merge(left=factors, right=testing_data['person_demographics_episode_test'], how='outer',on='visit_occurrence_id')\n",
    "        factors = pd.merge(left=factors, right=testing_data['devices_test'],how='outer',on='uid')\n",
    "        factors = pd.merge(left=testing_data['SepsisLabel_test'],right=factors,how='left',on='uid')\n",
    "\n",
    "        factors.to_csv(f'./processed_data/processed_test_{factors}.csv')\n",
    "\n",
    "    return factors"
   ]
  },
  {
   "cell_type": "code",
   "execution_count": 17,
   "metadata": {},
   "outputs": [],
   "source": [
    "data_factors_2 = data_factors.copy()\n",
    "data_factors_3 = data_factors.copy()\n",
    "training_data_2 = training_data.copy()\n"
   ]
  },
  {
   "cell_type": "code",
   "execution_count": 49,
   "metadata": {},
   "outputs": [
    {
     "data": {
      "text/plain": [
       "<Axes: >"
      ]
     },
     "execution_count": 49,
     "metadata": {},
     "output_type": "execute_result"
    },
    {
     "data": {
      "image/png": "[encoded data removed]",
      "text/plain": [
       "<Figure size 640x480 with 1 Axes>"
      ]
     },
     "metadata": {},
     "output_type": "display_data"
    }
   ],
   "source": [
    "data_factors_2.count(axis=1).hist(bins = 100, title = 'Count of non-NaN entries per row after basic processing')"
   ]
  },
  {
   "cell_type": "code",
   "execution_count": 53,
   "metadata": {},
   "outputs": [],
   "source": [
    "test_data_factors_2 = test_data_factors.copy()\n",
    "testing_data_2 = testing_data.copy()"
   ]
  },
  {
   "cell_type": "code",
   "execution_count": 21,
   "metadata": {},
   "outputs": [
    {
     "data": {
      "text/plain": [
       "Counter({0: 324753, 1: 6874})"
      ]
     },
     "execution_count": 21,
     "metadata": {},
     "output_type": "execute_result"
    }
   ],
   "source": [
    "Counter(data_factors_2['SepsisLabel'])"
   ]
  },
  {
   "cell_type": "code",
   "execution_count": 105,
   "metadata": {},
   "outputs": [
    {
     "data": {
      "text/plain": [
       "Index(['Base excess in Venous blood by calculation',\n",
       "       'Phosphate [Moles/volume] in Serum or Plasma',\n",
       "       'Bilirubin.total [Moles/volume] in Serum or Plasma',\n",
       "       'Neutrophil Ab [Units/volume] in Serum',\n",
       "       'Hematocrit [Volume Fraction] of Blood',\n",
       "       'Glucose [Moles/volume] in Serum or Plasma',\n",
       "       'C reactive protein [Mass/volume] in Serum or Plasma',\n",
       "       'Carbon dioxide [Partial pressure] in Venous blood',\n",
       "       'Oxygen [Partial pressure] in Venous blood',\n",
       "       'Albumin [Mass/volume] in Serum or Plasma',\n",
       "       'Bicarbonate [Moles/volume] in Venous blood',\n",
       "       'Magnesium [Moles/volume] in Blood',\n",
       "       'Procalcitonin [Mass/volume] in Serum or Plasma',\n",
       "       'Lactate [Moles/volume] in Blood', 'Creatinine [Mass/volume] in Blood',\n",
       "       'Bilirubin measurement', ' activated', 'Total white blood count',\n",
       "       'White blood cell count', 'Blood arterial pH',\n",
       "       'Hemoglobin [Moles/volume] in Blood'],\n",
       "      dtype='object')"
      ]
     },
     "execution_count": 105,
     "metadata": {},
     "output_type": "execute_result"
    }
   ],
   "source": [
    "data_factors_2.loc[:,((data_factors_2.count() < 30000) & (data_factors_2.count() > 10000))].columns"
   ]
  },
  {
   "cell_type": "markdown",
   "metadata": {},
   "source": [
    "##### Functions addressing df of merged data"
   ]
  },
  {
   "cell_type": "code",
   "execution_count": 18,
   "metadata": {},
   "outputs": [],
   "source": [
    "def new_person_ids(df: pd.DataFrame):\n",
    "    \"\"\"\n",
    "    This function reads person_id column for all rows based on UID and adds a new column with this information.\n",
    "\n",
    "    Parameters\n",
    "    ----------\n",
    "    'df': pandas DataFrame\n",
    "        This should be a pandas DataFrame which contains a column 'uid' with universal ids, with strings with format s.t. the person_id starts at the 18th index. e.g.: '2021-07-21 12:00:00623183219'\n",
    "    \"\"\"\n",
    "    # assert that uid column exists\n",
    "    print('Beginning adding new_person_id column based on uids.')\n",
    "    new_person_ids = pd.DataFrame(columns=['new_person_id','uid'])\n",
    "    new_id = df['uid'].copy().apply(lambda x: x[19:])\n",
    "    # new_id.apply(lambda x: int(x))\n",
    "    new_id = new_id.astype(int)\n",
    "    new_person_ids['new_person_id'] = new_id\n",
    "    new_person_ids['uid'] = df['uid'].copy()\n",
    "    # df.drop(columns=['person_id'],inplace=True)\n",
    "    df['new_person_id']=new_person_ids['new_person_id']\n",
    "    print('Finished adding new_person_id column based on uids.')\n",
    "    return None"
   ]
  },
  {
   "cell_type": "code",
   "execution_count": 19,
   "metadata": {},
   "outputs": [],
   "source": [
    "def birthday_ubiquity(df: pd.DataFrame, data_dictionary: dict):\n",
    "    \"\"\"\n",
    "    This function adds age in months to all rows in df based on uid time and birthday. It also adds gender to all rows in df.\n",
    "\n",
    "    Parameters\n",
    "    ----------\n",
    "    'df': pandas DataFrame\n",
    "        This is a pandas DataFrame of patient data that contains a 'new_person_id' column from running new_person_ids function.\n",
    "    'data_dictionary': dictionary\n",
    "        This is a dictionary of pandas DataFrames, should have a table of 'person_demographics_episode' data. The 'person_demographics_episode' data will be used to establish birthdays and genders for patients who occur in the DataFrame given.\n",
    "\n",
    "    Returns\n",
    "    -------\n",
    "    'df': pandas DataFrame\n",
    "        returns df with age in months and gender for participants with entry in 'person_demographics_episode' from provided data_dictionary.\n",
    "\n",
    "    Details\n",
    "    -------\n",
    "    * makes temporary dataframe 'unique_demographics_rows' of gender and birthday from 'person_demographics_episode'\n",
    "    * temporarily adds birthday by joining birthday from 'unique_demographics_rows' to df with key as new_person_id\n",
    "    * temporarily creates datetime column derived from uid\n",
    "    * adds age in months column by time between uid date and birthday to df in new column\n",
    "    * deletes birthday column from df\n",
    "    * adds gender column by joining gender from 'unique_demographics_rows' to df with key as new_person_id\n",
    "    \"\"\"\n",
    "    #assert that new_person_id column exists\n",
    "\n",
    "    # factors = pd.merge(left=testing_data['SepsisLabel_test'],right=factors,how='left',on='uid')\n",
    "    print('Beginning birthday ubiquity.')\n",
    "\n",
    "    demographics_ind_no = np.argmax([table.startswith(\"person_demographics\") for table in data_dictionary.keys()])\n",
    "    demographics_index = list(data_dictionary.keys())[demographics_ind_no]\n",
    "    demographics = data_dictionary[demographics_index]\n",
    "\n",
    "    unique_demographics_rows = pd.DataFrame(columns=['new_person_id','gender','birthday'])\n",
    "    for patient in tqdm(np.unique(demographics['person_id'])):\n",
    "        birthday = list(demographics[demographics['person_id']==patient]['birthday_formatted'])[0]\n",
    "        gender = list(demographics[demographics['person_id']==patient]['gender'])[0]\n",
    "        unique_demographics_rows.loc[len(unique_demographics_rows)] = [patient, gender, birthday]\n",
    "    df = pd.merge(left=df, right=unique_demographics_rows, how='left', on='new_person_id')\n",
    "    datetime_temp = df['uid'].copy().apply(lambda x: x[:19])\n",
    "    datetime_temp = pd.to_datetime(datetime_temp)\n",
    "    birthday_col = df['birthday'].copy()\n",
    "    age = -round((birthday_col-datetime_temp)/np.timedelta64(1,'D')/30)\n",
    "    df['age'] = age\n",
    "    df.drop(columns=['birthday'], inplace = True)\n",
    "    print('Birthday ubiquity established.')\n",
    "    return df"
   ]
  },
  {
   "cell_type": "code",
   "execution_count": 20,
   "metadata": {},
   "outputs": [],
   "source": [
    "def add_visit_reason(df: pd.DataFrame, data_dictionary: dict):\n",
    "    \"\"\"\n",
    "\n",
    "    This function adds 'Admission Reason' column to 'df'. This is done based on the most recent admission reason in the 'observation' table in 'data_dictionary' which occurs at or before the timestamp of a row (via uid).\n",
    "    \n",
    "    Please makes sure 'df' and 'data_dictionary' correspond to the same data!\n",
    "    \n",
    "    Parameters\n",
    "    ----------\n",
    "    'df' : pd.DataFrame\n",
    "        DataFrame of data.\n",
    "    'data_dictionary' : dict\n",
    "        dictionary with DataFrames for values.\n",
    "\n",
    "    Returns\n",
    "    -------\n",
    "    none since df is modified inplace.\n",
    "    \"\"\"\n",
    "    # assert uid column in df\n",
    "    # potentially assert observation column in df.\n",
    "\n",
    "    observation_ind = np.argmax([table.startswith(\"observation\") for table in data_dictionary.keys()])\n",
    "    observation_index = list(data_dictionary.keys())[observation_ind]\n",
    "    observation = data_dictionary[observation_index]\n",
    "\n",
    "    print(\"Adding visit reason\")\n",
    "\n",
    "    admission_times = observation['uid'].copy().apply(lambda x: x[:19])\n",
    "    admission_times = pd.to_datetime(admission_times)\n",
    "    \n",
    "    person = observation['uid'].copy().apply(lambda x: x[19:])\n",
    "    person = person.astype(int)\n",
    "\n",
    "    observation['admission_time'] = admission_times\n",
    "    observation['person'] = person\n",
    "\n",
    "    most_recent_admission_list = []\n",
    "\n",
    "    for uid in tqdm(np.unique(df['uid'])):\n",
    "        instance = pd.to_datetime(uid[:19])\n",
    "        person = int(uid[19:])\n",
    "        try:\n",
    "            # personal_admissions = observation[observation['person']==person]\n",
    "            recent_reason = observation[(observation['person']==person) & (observation['admission_time'] <= instance)].sort_values(by='admission_time', ascending=False).iloc[0]['valuefilled']\n",
    "        except:\n",
    "            recent_reason = np.nan\n",
    "        most_recent_admission_list.append(recent_reason)\n",
    "    admission_reason = pd.DataFrame(most_recent_admission_list, columns=['Admission Reason'])\n",
    "    df['Admission Reason'] = admission_reason\n",
    "    print(\"Visit reasons added\")\n",
    "    return None"
   ]
  },
  {
   "cell_type": "code",
   "execution_count": 21,
   "metadata": {},
   "outputs": [],
   "source": [
    "def time_interpolation(df: pd.DataFrame):\n",
    "    \"\"\"\n",
    "    This function interpolates values for certain columns based on difference in time via uid.\n",
    "    \n",
    "    Parameters\n",
    "    ----------\n",
    "    'df' : pd.DataFrame\n",
    "    \"\"\"\n",
    "    # function does not work\n",
    "    # 'White blood cell count'\n",
    "    \n",
    "    datetime_temp = df['uid'].copy().apply(lambda x: x[:19])\n",
    "    df['datetime_temp'] = pd.to_datetime(datetime_temp)\n",
    "    for person in tqdm(np.unique(df['new_person_id'])):\n",
    "        personal_df = df[df['new_person_id']==person].loc[:,['White blood cell count', 'datetime_temp']]\n",
    "        og_index = personal_df.index\n",
    "        personal_df.set_index('datetime_temp', inplace=True)\n",
    "        personal_df.loc[:,['White blood cell count']].interpolate(method='time')\n",
    "        personal_df.set_index(og_index, inplace=True)\n",
    "        print(personal_df)\n",
    "        df[df['new_person_id']==person]['White blood cell count']\n",
    "        # Write new df? #TODO "
   ]
  },
  {
   "cell_type": "code",
   "execution_count": 22,
   "metadata": {},
   "outputs": [],
   "source": [
    "def clearing_cols(df: pd.DataFrame, threshold: int, data_type: str, col_list: list = None):\n",
    "    \"\"\"\n",
    "    Clears columns that shouldn't be there for modeling and columns that don't meet threshold of number of values.\n",
    "    \n",
    "    Parameters\n",
    "    ----------\n",
    "    'df' : pd.DataFrame\n",
    "        DataFrame of data\n",
    "    'threshold' : int\n",
    "        number of values needed in a column. If column doesn't have this number of entries, it will be dropped from df. Irrelevant if 'data_type' is set to 'train'.\n",
    "    'data_type' : str\n",
    "        'train' or 'test'.\n",
    "    'col_list' : list\n",
    "        This is a list of columns to clear in test data, based on most recent run of this function with training data.\n",
    "\n",
    "    Returns\n",
    "    -------\n",
    "    'df' : pd.DataFrame\n",
    "    'sufficiently_empty_cols' : list\n",
    "    \"\"\"\n",
    "    # assert data_type\n",
    "    print('Clearing columns.')\n",
    "\n",
    "    if data_type == 'train':\n",
    "        sufficiently_empty_cols = list(df.loc[:,df.count() < threshold].columns)\n",
    "        df.drop(columns=sufficiently_empty_cols, inplace=True)\n",
    "        df.drop(columns=['visit_occurrence_id','uid'], inplace=True)\n",
    "        # The following columns are dropped because the drugs are not present in test data.\n",
    "        df.drop(columns=['ohe_ceftolozane','ohe_isoproterenol'],inplace=True)\n",
    "    \n",
    "    if data_type == 'test':\n",
    "        sufficiently_empty_cols = col_list\n",
    "        df.drop(columns=sufficiently_empty_cols, inplace=True)\n",
    "        df.drop(columns=['visit_occurrence_id','uid'], inplace=True)\n",
    "\n",
    "    print('Columns cleared.')\n",
    "\n",
    "    return df, sufficiently_empty_cols"
   ]
  },
  {
   "cell_type": "code",
   "execution_count": 23,
   "metadata": {},
   "outputs": [],
   "source": [
    "def fill_from_gaussian(column_value, mean: float, std: float):\n",
    "    \"\"\"\"\n",
    "    This function imputes NaN values with values sampled from a normal distribution of parameters specified.\n",
    "\n",
    "    Parameters\n",
    "    ----------\n",
    "    'column_value'\n",
    "        the column this is applied to\n",
    "    'mean' : float\n",
    "        mean of normal distribution sampled.\n",
    "    'std': float\n",
    "        standard deviation of normal distribution sampled.\n",
    "    \"\"\"\n",
    "    if np.isnan(column_value) == True:\n",
    "        column_value = np.round(np.random.normal(mean, std, 1)[0], 1)\n",
    "    else:\n",
    "        column_value = column_value\n",
    "    return column_value"
   ]
  },
  {
   "cell_type": "code",
   "execution_count": 24,
   "metadata": {},
   "outputs": [],
   "source": [
    "def fill_nans_gaussian(df: pd.DataFrame):\n",
    "    \"\"\"\n",
    "    Imputes NaN values in certain columns of df provided, based on online information of typical values by age.\n",
    "\n",
    "    Parameters\n",
    "    ----------\n",
    "    'df' : pd.DataFrame\n",
    "        DataFrame of data.\n",
    "    \n",
    "    Returns\n",
    "    -------\n",
    "    None. df will be updated by column.\n",
    "    \"\"\"\n",
    "    print('filling NaN values using Gaussians.')\n",
    "    \n",
    "    df['Body temperature'] = df['Body temperature'].apply(fill_from_gaussian, **{'mean': 36.9, 'std': .15})\n",
    "\n",
    "    df.loc[df['age'] <= 12, 'Systolic blood pressure'] = df.loc[df['age'] <= 12, 'Systolic blood pressure'].apply(fill_from_gaussian, **{'mean': 90, 'std': 5})\n",
    "    df.loc[df['age'].between(12, 60,inclusive='right'), 'Systolic blood pressure'] = df.loc[df['age'].between(12, 60,inclusive='right'), 'Systolic blood pressure'].apply(fill_from_gaussian, **{'mean': 105, 'std': 7})\n",
    "    df.loc[df['age'].between(60, 120,inclusive='right'), 'Systolic blood pressure'] = df.loc[df['age'].between(60, 120,inclusive='right'), 'Systolic blood pressure'].apply(fill_from_gaussian, **{'mean': 114, 'std': 7})\n",
    "    df.loc[df['age'] >120, 'Systolic blood pressure'] = df.loc[df['age'] >120, 'Systolic blood pressure'].apply(fill_from_gaussian, **{'mean': 120, 'std': 10})\n",
    "\n",
    "    df.loc[df['age'] <= 12, 'Diastolic blood pressure'] = df.loc[df['age'] <= 12, 'Diastolic blood pressure'].apply(fill_from_gaussian, **{'mean': 49, 'std': 5})\n",
    "    df.loc[df['age'].between(12, 60,inclusive='right'), 'Diastolic blood pressure'] = df.loc[df['age'].between(12, 60,inclusive='right'), 'Diastolic blood pressure'].apply(fill_from_gaussian, **{'mean': 60, 'std': 5})\n",
    "    df.loc[df['age'].between(60, 120,inclusive='right'), 'Diastolic blood pressure'] = df.loc[df['age'].between(60, 120,inclusive='right'), 'Diastolic blood pressure'].apply(fill_from_gaussian, **{'mean': 70, 'std': 5})\n",
    "    df.loc[df['age'] > 120, 'Diastolic blood pressure'] = df.loc[df['age'] > 120, 'Diastolic blood pressure'].apply(fill_from_gaussian, **{'mean': 75, 'std': 7})\n",
    "\n",
    "    df.loc[df['age'] <= 2, 'Hematocrit [Volume Fraction] of Blood'] = df.loc[df['age'] <= 2, 'Hematocrit [Volume Fraction] of Blood'].apply(fill_from_gaussian, **{'mean': 42, 'std': 4})\n",
    "    df.loc[df['age'].between(2, 12,inclusive='right'), 'Hematocrit [Volume Fraction] of Blood'] = df.loc[df['age'].between(2, 12,inclusive='right'), 'Hematocrit [Volume Fraction] of Blood'].apply(fill_from_gaussian, **{'mean': 35, 'std': 4})\n",
    "    df.loc[df['age'].between(12, 60,inclusive='right'), 'Hematocrit [Volume Fraction] of Blood'] = df.loc[df['age'].between(12, 60,inclusive='right'), 'Hematocrit [Volume Fraction] of Blood'].apply(fill_from_gaussian, **{'mean': 37, 'std': 2})\n",
    "    # > 60 Hematocrit should vary for M vs F but not implemented here\n",
    "    df.loc[df['age'] > 60, 'Hematocrit [Volume Fraction] of Blood'] = df.loc[df['age'] > 60, 'Hematocrit [Volume Fraction] of Blood'].apply(fill_from_gaussian, **{'mean': 42, 'std': 2})\n",
    "\n",
    "    # df.loc[df['age'] <= 36, 'Glucose [Moles/volume] in Serum or Plasma'] = df.loc[df['age'] <= 36, 'Glucose [Moles/volume] in Serum or Plasma'].apply(fill_from_gaussian, **{'mean': 120, 'std': 30})\n",
    "    # df.loc[df['age'] > 36, 'Glucose [Moles/volume] in Serum or Plasma'] = df.loc[df['age'] > 36, 'Glucose [Moles/volume] in Serum or Plasma'].apply(fill_from_gaussian, **{'mean': 125, 'std': 25})\n",
    "\n",
    "    # df['Bicarbonate [Moles/volume] in Venous blood'] = df['Bicarbonate [Moles/volume] in Venous blood'].apply(fill_from_gaussian, **{'mean': 24, 'std': 2})\n",
    "    # df['Blood arterial pH'] = df['Blood arterial pH'].apply(fill_from_gaussian, **{'mean': 7.4, 'std': .05})\n",
    "\n",
    "\n",
    "    # Not a good idea to impute WBC by expected values!\n",
    "    # df.loc[df['age'] <= 1, 'White blood cell count'] = df.loc[df['age'] <= 1, 'White blood cell count'].apply(fill_from_gaussian, **{'mean': 12.5, 'std': 3})\n",
    "    # df.loc[df['age'].between(1, 24,inclusive='right'), 'White blood cell count'] = df.loc[df['age'].between(1, 24,inclusive='right'), 'White blood cell count'].apply(fill_from_gaussian, **{'mean': 11.5, 'std': 3})\n",
    "    # df.loc[df['age'].between(24, 96,inclusive='right'), 'White blood cell count'] = df.loc[df['age'].between(24, 96,inclusive='right'), 'White blood cell count'].apply(fill_from_gaussian, **{'mean': 10, 'std': 2.5})\n",
    "    # df.loc[df['age'] > 96, 'White blood cell count'] = df.loc[df['age'] > 96, 'White blood cell count'].apply(fill_from_gaussian, **{'mean': 9, 'std': 2})\n",
    "    print('filled NaN values using Gaussians.')\n",
    "    return None"
   ]
  },
  {
   "cell_type": "code",
   "execution_count": 25,
   "metadata": {},
   "outputs": [],
   "source": [
    "def fill_zeros_imputation(df: pd.DataFrame):\n",
    "    \"\"\"\n",
    "    This function fills zeros for the empty rows of one-hot-encoded columns.\n",
    "\n",
    "    Parameters\n",
    "    ----------\n",
    "    'df' : pd.DataFrame\n",
    "        DataFrame of data.\n",
    "\n",
    "    Returns\n",
    "    -------\n",
    "    none.\n",
    "    \"\"\"\n",
    "    print(\"Filling zero values for one hot encoding columns.\")\n",
    "    ohe_col_inds = [i.startswith('ohe') for i in list(df.columns)]\n",
    "    ohe_cols = df.columns[ohe_col_inds]\n",
    "    for col in ohe_cols:\n",
    "        df[col] = df[col].apply(lambda x: 0 if pd.isna(x) else x)\n",
    "    print(\"Zeros filled.\")\n",
    "    return None"
   ]
  },
  {
   "cell_type": "code",
   "execution_count": 26,
   "metadata": {},
   "outputs": [],
   "source": [
    "def categorical_encoding(df: pd.DataFrame):\n",
    "    \"\"\"\n",
    "    Encodes categorical data, as determined by columns with object datatypes.\n",
    "\n",
    "    Parameters\n",
    "    ----------\n",
    "    'df' : pd.DataFrame\n",
    "        DataFrame of Data\n",
    "\n",
    "    Returns\n",
    "    -------\n",
    "    None. df is updated in place.\n",
    "    \"\"\"\n",
    "    print('Beginning categorical encoding.')\n",
    "    categorical_cols = list(df.select_dtypes(object).columns)\n",
    "    le_dictionary = {}\n",
    "    for name in tqdm(categorical_cols):\n",
    "        le = LabelEncoder()\n",
    "        le.fit(df.loc[:,f'{name}'])\n",
    "        new_col = le.transform(df.loc[:,f'{name}'])\n",
    "        le_dictionary[name] = le\n",
    "        df.drop(columns=f'{name}', inplace=True)\n",
    "        df[f'encoded_{name}'] = new_col\n",
    "    print('Finished categorical encoding.')\n",
    "    return None"
   ]
  },
  {
   "cell_type": "markdown",
   "metadata": {},
   "source": [
    "##### Post join cummulative functions"
   ]
  },
  {
   "cell_type": "code",
   "execution_count": 27,
   "metadata": {},
   "outputs": [],
   "source": [
    "def post_join_processing_train(df: pd.DataFrame, data_dictionary: dict, entry_threshold: int):\n",
    "    \"\"\"\n",
    "    This function is for training data only.\n",
    "\n",
    "    Runs operations on dataframe that occur after the tables of patient data have been joined together into a table of factors. This is pre-split.\n",
    "\n",
    "    Parameters\n",
    "    ----------\n",
    "    'df' : pd.DataFrame\n",
    "        This is a DataFrame of patient data.\n",
    "    'data_dictionary' : dict\n",
    "        This is a dictionary of DataFrames that was presumably used to create the DataFrame df. Data from 'person_demographics_episode' will be used to populate age and gender in df.\n",
    "    'entry_threshold' : int\n",
    "        Columns with count of values less than this threshold will be removed. That is, non-NaN values.\n",
    "    \n",
    "    Details\n",
    "    -------\n",
    "    * runs new_person_ids\n",
    "    * runs birthday_ubiquity\n",
    "    * runs clearing_cols\n",
    "    * runs categorical_encoding\n",
    "    \"\"\"\n",
    "    # add flags\n",
    "    \n",
    "    new_person_ids(df=df)\n",
    "    df = birthday_ubiquity(df = df, data_dictionary = data_dictionary)\n",
    "    add_visit_reason(df=df,data_dictionary= data_dictionary)\n",
    "    df, cols_cleared = clearing_cols(df=df, threshold = entry_threshold, data_type = 'train')\n",
    "    fill_nans_gaussian(df)\n",
    "    fill_zeros_imputation(df)\n",
    "    categorical_encoding(df)\n",
    "\n",
    "    return df, cols_cleared"
   ]
  },
  {
   "cell_type": "code",
   "execution_count": 55,
   "metadata": {},
   "outputs": [],
   "source": [
    "def post_join_processing_test(df: pd.DataFrame, data_dictionary: dict, col_list: list):\n",
    "    \"\"\"\n",
    "    This function is for test data only. That is, data without sepsis labels.\n",
    "\n",
    "    Runs operations on dataframe that occur after the tables of patient data have been joined together into a table of factors. This is pre-split.\n",
    "\n",
    "    Parameters\n",
    "    ----------\n",
    "    'df' : pd.DataFrame\n",
    "        This is a DataFrame of patient data.\n",
    "    'data_dictionary' : dict\n",
    "        This is a dictionary of DataFrames that was presumably used to create the DataFrame df. Data from 'person_demographics_episode' will be used to populate age and gender in df.\n",
    "    'entry_threshold' : int\n",
    "        Columns with count of values less than this threshold will be removed. That is, non-NaN values.\n",
    "    \n",
    "    Details\n",
    "    -------\n",
    "    * runs new_person_ids\n",
    "    * runs birthday_ubiquity\n",
    "    * runs clearing_cols\n",
    "    * runs categorical_encoding\n",
    "    \"\"\"\n",
    "    # add flags\n",
    "    \n",
    "    new_person_ids(df=df)\n",
    "    df = birthday_ubiquity(df = df, data_dictionary = data_dictionary)\n",
    "    add_visit_reason(df=df,data_dictionary= data_dictionary)\n",
    "    # Note that threshold for clearing_cols is irrelevant if data_type is set to 'test'.\n",
    "    # Columns will be cleared based on col_list to match columns cleared from training data in most recent run of post_join_processing_train.\n",
    "    # cols variable unused but function outputs tuple..\n",
    "    df, cols = clearing_cols(df=df, threshold = 10000, data_type = 'test', col_list = col_list)\n",
    "    fill_nans_gaussian(df)\n",
    "    fill_zeros_imputation(df)\n",
    "    categorical_encoding(df)\n",
    "    # Since test does not go through later processing that train data does.\n",
    "    df.drop(columns=['new_person_id'],inplace=True)\n",
    "\n",
    "    return df"
   ]
  },
  {
   "cell_type": "code",
   "execution_count": 28,
   "metadata": {},
   "outputs": [
    {
     "name": "stdout",
     "output_type": "stream",
     "text": [
      "Beginning adding new_person_id column based on uids.\n",
      "Finished adding new_person_id column based on uids.\n",
      "Beginning birthday ubiquity.\n",
      "Birthday ubiquity established.\n",
      "Adding visit reason\n"
     ]
    },
    {
     "name": "stderr",
     "output_type": "stream",
     "text": [
      "100%|██████████| 331623/331623 [08:58<00:00, 615.52it/s]\n"
     ]
    },
    {
     "name": "stdout",
     "output_type": "stream",
     "text": [
      "Visit reasons added\n",
      "Clearing columns.\n",
      "Columns cleared.\n",
      "filling NaN values using Gaussians.\n",
      "filled NaN values using Gaussians.\n",
      "Filling zero values for one hot encoding columns.\n",
      "Zeros filled.\n",
      "Beginning categorical encoding.\n"
     ]
    },
    {
     "name": "stderr",
     "output_type": "stream",
     "text": [
      "100%|██████████| 3/3 [00:01<00:00,  1.96it/s]"
     ]
    },
    {
     "name": "stdout",
     "output_type": "stream",
     "text": [
      "Finished categorical encoding.\n"
     ]
    },
    {
     "name": "stderr",
     "output_type": "stream",
     "text": [
      "\n"
     ]
    }
   ],
   "source": [
    "data_factors_3, cols = post_join_processing_train(data_factors_3,training_data_2,10000)"
   ]
  },
  {
   "cell_type": "code",
   "execution_count": null,
   "metadata": {},
   "outputs": [],
   "source": [
    "data_factors_3.count(axis=1).hist(bins = 100, title = 'Count of non-NaN entries per row after preprocessing')"
   ]
  },
  {
   "cell_type": "code",
   "execution_count": 56,
   "metadata": {},
   "outputs": [
    {
     "name": "stdout",
     "output_type": "stream",
     "text": [
      "Beginning adding new_person_id column based on uids.\n",
      "Finished adding new_person_id column based on uids.\n",
      "Beginning birthday ubiquity.\n",
      "Birthday ubiquity established.\n",
      "Adding visit reason\n"
     ]
    },
    {
     "name": "stderr",
     "output_type": "stream",
     "text": [
      "100%|██████████| 130483/130483 [03:42<00:00, 587.71it/s]\n"
     ]
    },
    {
     "name": "stdout",
     "output_type": "stream",
     "text": [
      "Visit reasons added\n",
      "Clearing columns.\n",
      "Columns cleared.\n",
      "filling NaN values using Gaussians.\n",
      "filled NaN values using Gaussians.\n",
      "Filling zero values for one hot encoding columns.\n",
      "Zeros filled.\n",
      "Beginning categorical encoding.\n"
     ]
    },
    {
     "name": "stderr",
     "output_type": "stream",
     "text": [
      "100%|██████████| 3/3 [00:00<00:00,  6.24it/s]"
     ]
    },
    {
     "name": "stdout",
     "output_type": "stream",
     "text": [
      "Finished categorical encoding.\n"
     ]
    },
    {
     "name": "stderr",
     "output_type": "stream",
     "text": [
      "\n"
     ]
    }
   ],
   "source": [
    "test_data_factors_2 = post_join_processing_test(df=test_data_factors_2,data_dictionary=testing_data,col_list=cols)"
   ]
  },
  {
   "cell_type": "markdown",
   "metadata": {},
   "source": [
    "##### Imputation + Smote"
   ]
  },
  {
   "cell_type": "code",
   "execution_count": 178,
   "metadata": {},
   "outputs": [],
   "source": [
    "def personal_imputation(df: pd.DataFrame):\n",
    "    \"\"\"\n",
    "    kNN imputation where neighbors considered are only from the same person via person_id.\n",
    "\n",
    "    Parameters\n",
    "    ----------\n",
    "    'df' : pd.DataFrame\n",
    "        a DataFrame of compiled patient data.\n",
    "    \n",
    "    Returns\n",
    "    'new_df' : pd.Dataframe\n",
    "        a DataFrame with imputed data.\n",
    "    \"\"\"\n",
    "    \n",
    "    imputed_list = []\n",
    "    original_order = list(df.columns)\n",
    "    for person in tqdm(np.unique(df['new_person_id'])):\n",
    "        minimized_df = df[df['new_person_id']==person].copy()\n",
    "\n",
    "        null_col_ind = minimized_df.loc[:,minimized_df.count() == 0].columns\n",
    "        null_cols_list = list(null_col_ind)\n",
    "        impute_col_ind = minimized_df.loc[:,minimized_df.count() != 0].columns\n",
    "        imputable_cols_list = list(impute_col_ind)\n",
    "        null_cols = minimized_df.loc[:,null_cols_list]\n",
    "        imputable_cols = minimized_df.loc[:,imputable_cols_list]\n",
    "\n",
    "        imp = KNNImputer(n_neighbors = 2)\n",
    "        imp.fit(X = imputable_cols)\n",
    "        imputed_cols = imp.transform(X = imputable_cols)\n",
    "        \n",
    "        # null_list = list(null_cols)\n",
    "        \n",
    "        # null_df = pd.DataFrame([null_list], columns=null_col_ind)\n",
    "        imped_df = pd.DataFrame(imputed_cols, columns=impute_col_ind)\n",
    "        merged_df = pd.concat([null_cols.reset_index(drop=True),imped_df.reset_index(drop=True)], axis=1)\n",
    "        merged_df = merged_df[original_order]\n",
    "        imputed_list.extend(merged_df.values.tolist())\n",
    "\n",
    "    new_df = pd.DataFrame(imputed_list,columns=list(df.columns))\n",
    "    new_df.to_csv(f'./processed_data/factors_imputed_by_person_id.csv')\n",
    "    \n",
    "    return new_df"
   ]
  },
  {
   "cell_type": "code",
   "execution_count": 179,
   "metadata": {},
   "outputs": [
    {
     "name": "stderr",
     "output_type": "stream",
     "text": [
      "100%|██████████| 2640/2640 [03:10<00:00, 13.89it/s] \n"
     ]
    }
   ],
   "source": [
    "imputed_factors = personal_imputation(data_factors_3)"
   ]
  },
  {
   "cell_type": "code",
   "execution_count": 160,
   "metadata": {},
   "outputs": [],
   "source": [
    "test = data_factors_3[data_factors_3['new_person_id']==3672059]\n",
    "listed = list(test.loc[:,test.count() != 0].columns)\n",
    "to_imp = test.loc[:,listed]\n",
    "test = data_factors_3[data_factors_3['new_person_id']==3672059]\n",
    "to_imp = test.loc[:,listed]\n",
    "imp_test = KNNImputer(n_neighbors=2)\n",
    "imp_test.fit(X = to_imp)\n",
    "imped = imp_test.transform(X = to_imp)\n",
    "dfed = pd.DataFrame(imped, columns=listed)\n",
    "\n",
    "reimp_test = KNNImputer(n_neighbors=5)\n",
    "reimp_test.fit(X = to_imp)\n",
    "reimpted = reimp_test.transform(X = to_imp)\n",
    "redfed = pd.DataFrame(reimpted)\n",
    "\n",
    "listtest = dfed.values.tolist()"
   ]
  },
  {
   "cell_type": "code",
   "execution_count": null,
   "metadata": {},
   "outputs": [],
   "source": [
    "def smoter(df_X: pd.DataFrame, df_y: pd.DataFrame):\n",
    "    sampling_strat = {0: 95, 1: 5}\n",
    "    smote=SMOTE(sampling_strategy=sampling_strat) \n",
    "    X,y=smote.fit_resample(df_X,df_y)\n",
    "    print(\"completed smote\")\n",
    "    person_id_index = np.argmax([column.startswith('new_person_id') for column in data_factors_3.columns])\n",
    "    person_id = df_X.iloc[:,person_id_index].values\n",
    "\n",
    "    gss = GroupShuffleSplit(n_splits=1, test_size=0.2)\n",
    "    for train_x_index, test_x_index in gss.split(X=X,y=y,groups=person_id):\n",
    "        X_train = X[train_x_index]\n",
    "        X_test = X[test_x_index]\n",
    "        y_train = y[train_x_index]\n",
    "        y_test = y[test_x_index]\n",
    "        person_id_train = person_id[train_x_index]\n",
    "        person_id_test = person_id[test_x_index]\n",
    "        \n",
    "    formatted_data = {}\n",
    "    formatted_data['X_train'] = X_train\n",
    "    formatted_data['X_test'] = X_test\n",
    "    formatted_data['y_train'] = y_train\n",
    "    formatted_data['y_test'] = y_test\n",
    "    formatted_data['person_id_train'] = person_id_train\n",
    "    formatted_data['person_id_test'] = person_id_test\n",
    "\n",
    "    return formatted_data"
   ]
  },
  {
   "cell_type": "markdown",
   "metadata": {},
   "source": [
    "##### Modeling"
   ]
  },
  {
   "cell_type": "code",
   "execution_count": 29,
   "metadata": {},
   "outputs": [],
   "source": [
    "def format_for_modeling(df):\n",
    "    random.seed(10)\n",
    "    \n",
    "    df.reset_index()\n",
    "    person_id_index = np.argmax([column.startswith('new_person_id') for column in data_factors_3.columns])\n",
    "    column_list = []\n",
    "    [column_list.append(i) for i in range(1,person_id_index)]\n",
    "    [column_list.append(i) for i in range(person_id_index+1,len(df.columns.values))]\n",
    "    X = df.iloc[:,column_list].values\n",
    "    y = df.iloc[:,0].values\n",
    "    person_id = df.iloc[:,person_id_index].values\n",
    "    column_names = df.columns.values[column_list]\n",
    "\n",
    "    gss = GroupShuffleSplit(n_splits=1, test_size=0.2)\n",
    "    for train_x_index, test_x_index in gss.split(X=X,y=y,groups=person_id):\n",
    "        X_train = X[train_x_index]\n",
    "        X_test = X[test_x_index]\n",
    "        y_train = y[train_x_index]\n",
    "        y_test = y[test_x_index]\n",
    "        person_id_train = person_id[train_x_index]\n",
    "        person_id_test = person_id[test_x_index]\n",
    "        \n",
    "    formatted_data = {}\n",
    "    formatted_data['X_train'] = X_train\n",
    "    formatted_data['X_test'] = X_test\n",
    "    formatted_data['y_train'] = y_train\n",
    "    formatted_data['y_test'] = y_test\n",
    "    formatted_data['person_id_train'] = person_id_train\n",
    "    formatted_data['person_id_test'] = person_id_test\n",
    "\n",
    "    return formatted_data, column_names"
   ]
  },
  {
   "cell_type": "markdown",
   "metadata": {},
   "source": [
    "##### Random Forest model"
   ]
  },
  {
   "cell_type": "code",
   "execution_count": 225,
   "metadata": {},
   "outputs": [],
   "source": [
    "def forest_model(data_dictionary: dict):\n",
    "    X_train = data_dictionary['X_train']\n",
    "    X_test = data_dictionary['X_test']\n",
    "    y_train = data_dictionary['y_train']\n",
    "    y_test = data_dictionary['y_test']\n",
    "    person_id_train = data_dictionary['person_id_train']\n",
    "    person_id_test = data_dictionary['person_id_test']\n",
    "\n",
    "    r_forest_model = RandomForestClassifier(class_weight={0:1,1:150})\n",
    "    r_forest_model.fit(X_train,y_train)\n",
    "\n",
    "    y_pred = r_forest_model.predict(X_test)\n",
    "    accuracy = accuracy_score(y_test, y_pred)\n",
    "    print(f\"Accuracy score: {accuracy}\")\n",
    "    f1 = f1_score(y_test,y_pred)\n",
    "    print(f\"F1 score: {f1}\")\n",
    "\n",
    "    cm = confusion_matrix(y_test, y_pred)\n",
    "\n",
    "    cmn = cm.astype('float') / cm.sum(axis=1)[:, np.newaxis]\n",
    "    fig, ax = plt.subplots(figsize=(5,5))\n",
    "    sns.heatmap(cmn, annot=True, fmt='.2f', xticklabels=['not sepsis', 'sepsis'], yticklabels=['not sepsis', 'sepsis'])\n",
    "    plt.ylabel('Actual')\n",
    "    plt.xlabel('Predicted')\n",
    "    plt.show(block=False)\n",
    "    return r_forest_model, y_pred"
   ]
  },
  {
   "cell_type": "code",
   "execution_count": 282,
   "metadata": {},
   "outputs": [
    {
     "name": "stdout",
     "output_type": "stream",
     "text": [
      "Accuracy score: 0.9729897750511247\n",
      "F1 score: 0.23173569101907865\n"
     ]
    },
    {
     "data": {
      "image/png": "[encoded data removed]",
      "text/plain": [
       "<Figure size 500x500 with 2 Axes>"
      ]
     },
     "metadata": {},
     "output_type": "display_data"
    }
   ],
   "source": [
    "split_data, column_names = format_for_modeling(data_factors_3)\n",
    "forest, preds = forest_model(split_data)"
   ]
  },
  {
   "cell_type": "code",
   "execution_count": 233,
   "metadata": {},
   "outputs": [
    {
     "data": {
      "text/plain": [
       "array([3.14543128e-02, 3.31548166e-02, 3.02539701e-02, 1.16680307e-02,\n",
       "       1.03640909e-02, 1.06842391e-02, 1.86782149e-03, 4.80240915e-04,\n",
       "       1.80780537e-03, 1.11952124e-03, 2.81859337e-03, 2.92751269e-02,\n",
       "       1.69783846e-03, 1.89164463e-03, 2.25264033e-03, 2.53990173e-03,\n",
       "       1.37714426e-03, 1.44533035e-03, 9.64589949e-04, 1.89307963e-03,\n",
       "       1.05482276e-03, 2.91093856e-03, 3.64055133e-03, 2.84082343e-03,\n",
       "       6.21706660e-04, 1.67363927e-03, 1.71637925e-03, 1.89878641e-03,\n",
       "       2.48508666e-03, 2.21214640e-03, 2.78543006e-02, 2.70650433e-04,\n",
       "       7.71529549e-09, 1.32297837e-02, 1.98199454e-02, 7.02359301e-03,\n",
       "       5.31249575e-02, 6.70558262e-04, 6.73719174e-03, 2.63651007e-02,\n",
       "       8.59795452e-07, 4.01967792e-02, 1.32345070e-02, 7.09152224e-05,\n",
       "       6.59107638e-03, 1.33680791e-02, 2.90755556e-03, 7.31344517e-03,\n",
       "       9.22625562e-03, 1.68039530e-02, 6.70213454e-03, 2.64402872e-02,\n",
       "       4.13320946e-05, 1.97702202e-02, 6.60129232e-03, 3.27249256e-02,\n",
       "       4.72846842e-04, 3.95401314e-02, 6.60740391e-03, 6.75025007e-03,\n",
       "       9.38753566e-04, 6.26493164e-05, 8.04520276e-04, 7.98355530e-04,\n",
       "       6.68690632e-03, 4.90819158e-03, 1.98486306e-02, 0.00000000e+00,\n",
       "       5.15449337e-03, 1.31349553e-02, 4.59111133e-02, 1.42662050e-03,\n",
       "       2.67151418e-02, 1.29891230e-02, 6.74532428e-03, 7.70605190e-05,\n",
       "       2.65161423e-04, 1.20195897e-03, 1.28504200e-04, 2.37176332e-05,\n",
       "       5.79905838e-02, 6.58104292e-03, 6.40439986e-03, 4.77743937e-02,\n",
       "       3.26709923e-02, 0.00000000e+00, 6.88508978e-03, 3.44563146e-03,\n",
       "       2.55254429e-03, 4.38128247e-03, 6.13700121e-03, 4.65023351e-02,\n",
       "       1.16778193e-02, 8.64974356e-03])"
      ]
     },
     "execution_count": 233,
     "metadata": {},
     "output_type": "execute_result"
    }
   ],
   "source": [
    "forest.feature_importances_"
   ]
  },
  {
   "cell_type": "code",
   "execution_count": 94,
   "metadata": {},
   "outputs": [
    {
     "data": {
      "text/plain": [
       "array([0.03104548, 0.03111952, 0.02973935, 0.01446083, 0.01426358,\n",
       "       0.0151896 , 0.00169026, 0.00053382, 0.00189842, 0.0012088 ,\n",
       "       0.00267001, 0.0285367 , 0.00252177, 0.00196711, 0.00319396,\n",
       "       0.00344713, 0.00153103, 0.00233059, 0.00168114, 0.00224711,\n",
       "       0.00091361, 0.00334927, 0.00424034, 0.00344358, 0.00146434,\n",
       "       0.0017665 , 0.00201977, 0.00228191, 0.00239886, 0.0023377 ,\n",
       "       0.06334924, 0.34793486, 0.31146167, 0.02499801, 0.02675987,\n",
       "       0.01000421])"
      ]
     },
     "execution_count": 94,
     "metadata": {},
     "output_type": "execute_result"
    }
   ],
   "source": [
    "forest.feature_importances_"
   ]
  },
  {
   "cell_type": "code",
   "execution_count": 204,
   "metadata": {},
   "outputs": [
    {
     "data": {
      "text/html": [
       "<div>\n",
       "<style scoped>\n",
       "    .dataframe tbody tr th:only-of-type {\n",
       "        vertical-align: middle;\n",
       "    }\n",
       "\n",
       "    .dataframe tbody tr th {\n",
       "        vertical-align: top;\n",
       "    }\n",
       "\n",
       "    .dataframe thead th {\n",
       "        text-align: right;\n",
       "    }\n",
       "</style>\n",
       "<table border=\"1\" class=\"dataframe\">\n",
       "  <thead>\n",
       "    <tr style=\"text-align: right;\">\n",
       "      <th></th>\n",
       "      <th>columns_1</th>\n",
       "      <th>columns_2</th>\n",
       "    </tr>\n",
       "  </thead>\n",
       "  <tbody>\n",
       "    <tr>\n",
       "      <th>0</th>\n",
       "      <td>Systolic blood pressure</td>\n",
       "      <td>Systolic blood pressure</td>\n",
       "    </tr>\n",
       "    <tr>\n",
       "      <th>1</th>\n",
       "      <td>Diastolic blood pressure</td>\n",
       "      <td>Diastolic blood pressure</td>\n",
       "    </tr>\n",
       "    <tr>\n",
       "      <th>2</th>\n",
       "      <td>Body temperature</td>\n",
       "      <td>Body temperature</td>\n",
       "    </tr>\n",
       "    <tr>\n",
       "      <th>3</th>\n",
       "      <td>Respiratory rate</td>\n",
       "      <td>Respiratory rate</td>\n",
       "    </tr>\n",
       "    <tr>\n",
       "      <th>4</th>\n",
       "      <td>Heart rate</td>\n",
       "      <td>Heart rate</td>\n",
       "    </tr>\n",
       "    <tr>\n",
       "      <th>5</th>\n",
       "      <td>Measurement of oxygen saturation at periphery</td>\n",
       "      <td>Measurement of oxygen saturation at periphery</td>\n",
       "    </tr>\n",
       "    <tr>\n",
       "      <th>6</th>\n",
       "      <td>Base excess in Venous blood by calculation</td>\n",
       "      <td>Base excess in Venous blood by calculation</td>\n",
       "    </tr>\n",
       "    <tr>\n",
       "      <th>7</th>\n",
       "      <td>Phosphate [Moles/volume] in Serum or Plasma</td>\n",
       "      <td>Phosphate [Moles/volume] in Serum or Plasma</td>\n",
       "    </tr>\n",
       "    <tr>\n",
       "      <th>8</th>\n",
       "      <td>Potassium [Moles/volume] in Blood</td>\n",
       "      <td>Potassium [Moles/volume] in Blood</td>\n",
       "    </tr>\n",
       "    <tr>\n",
       "      <th>9</th>\n",
       "      <td>Bilirubin.total [Moles/volume] in Serum or Plasma</td>\n",
       "      <td>Bilirubin.total [Moles/volume] in Serum or Plasma</td>\n",
       "    </tr>\n",
       "    <tr>\n",
       "      <th>10</th>\n",
       "      <td>Neutrophil Ab [Units/volume] in Serum</td>\n",
       "      <td>Neutrophil Ab [Units/volume] in Serum</td>\n",
       "    </tr>\n",
       "    <tr>\n",
       "      <th>11</th>\n",
       "      <td>Hematocrit [Volume Fraction] of Blood</td>\n",
       "      <td>Hematocrit [Volume Fraction] of Blood</td>\n",
       "    </tr>\n",
       "    <tr>\n",
       "      <th>12</th>\n",
       "      <td>Glucose [Moles/volume] in Serum or Plasma</td>\n",
       "      <td>Glucose [Moles/volume] in Serum or Plasma</td>\n",
       "    </tr>\n",
       "    <tr>\n",
       "      <th>13</th>\n",
       "      <td>Chloride [Moles/volume] in Blood</td>\n",
       "      <td>Chloride [Moles/volume] in Blood</td>\n",
       "    </tr>\n",
       "    <tr>\n",
       "      <th>14</th>\n",
       "      <td>Sodium [Moles/volume] in Serum or Plasma</td>\n",
       "      <td>Sodium [Moles/volume] in Serum or Plasma</td>\n",
       "    </tr>\n",
       "    <tr>\n",
       "      <th>15</th>\n",
       "      <td>C reactive protein [Mass/volume] in Serum or P...</td>\n",
       "      <td>C reactive protein [Mass/volume] in Serum or P...</td>\n",
       "    </tr>\n",
       "    <tr>\n",
       "      <th>16</th>\n",
       "      <td>Carbon dioxide [Partial pressure] in Venous blood</td>\n",
       "      <td>Carbon dioxide [Partial pressure] in Venous blood</td>\n",
       "    </tr>\n",
       "    <tr>\n",
       "      <th>17</th>\n",
       "      <td>Oxygen [Partial pressure] in Venous blood</td>\n",
       "      <td>Oxygen [Partial pressure] in Venous blood</td>\n",
       "    </tr>\n",
       "    <tr>\n",
       "      <th>18</th>\n",
       "      <td>Albumin [Mass/volume] in Serum or Plasma</td>\n",
       "      <td>Albumin [Mass/volume] in Serum or Plasma</td>\n",
       "    </tr>\n",
       "    <tr>\n",
       "      <th>19</th>\n",
       "      <td>Bicarbonate [Moles/volume] in Venous blood</td>\n",
       "      <td>Bicarbonate [Moles/volume] in Venous blood</td>\n",
       "    </tr>\n",
       "    <tr>\n",
       "      <th>20</th>\n",
       "      <td>Magnesium [Moles/volume] in Blood</td>\n",
       "      <td>Magnesium [Moles/volume] in Blood</td>\n",
       "    </tr>\n",
       "    <tr>\n",
       "      <th>21</th>\n",
       "      <td>Procalcitonin [Mass/volume] in Serum or Plasma</td>\n",
       "      <td>Procalcitonin [Mass/volume] in Serum or Plasma</td>\n",
       "    </tr>\n",
       "    <tr>\n",
       "      <th>22</th>\n",
       "      <td>Lactate [Moles/volume] in Blood</td>\n",
       "      <td>Lactate [Moles/volume] in Blood</td>\n",
       "    </tr>\n",
       "    <tr>\n",
       "      <th>23</th>\n",
       "      <td>Creatinine [Mass/volume] in Blood</td>\n",
       "      <td>Creatinine [Mass/volume] in Blood</td>\n",
       "    </tr>\n",
       "    <tr>\n",
       "      <th>24</th>\n",
       "      <td>Bilirubin measurement</td>\n",
       "      <td>Bilirubin measurement</td>\n",
       "    </tr>\n",
       "    <tr>\n",
       "      <th>25</th>\n",
       "      <td>activated</td>\n",
       "      <td>activated</td>\n",
       "    </tr>\n",
       "    <tr>\n",
       "      <th>26</th>\n",
       "      <td>Total white blood count</td>\n",
       "      <td>Total white blood count</td>\n",
       "    </tr>\n",
       "    <tr>\n",
       "      <th>27</th>\n",
       "      <td>White blood cell count</td>\n",
       "      <td>White blood cell count</td>\n",
       "    </tr>\n",
       "    <tr>\n",
       "      <th>28</th>\n",
       "      <td>Blood arterial pH</td>\n",
       "      <td>Blood arterial pH</td>\n",
       "    </tr>\n",
       "    <tr>\n",
       "      <th>29</th>\n",
       "      <td>Hemoglobin [Moles/volume] in Blood</td>\n",
       "      <td>Hemoglobin [Moles/volume] in Blood</td>\n",
       "    </tr>\n",
       "    <tr>\n",
       "      <th>30</th>\n",
       "      <td>age</td>\n",
       "      <td>age</td>\n",
       "    </tr>\n",
       "    <tr>\n",
       "      <th>31</th>\n",
       "      <td>encoded_drugs</td>\n",
       "      <td>encoded_drugs</td>\n",
       "    </tr>\n",
       "    <tr>\n",
       "      <th>32</th>\n",
       "      <td>encoded_routes</td>\n",
       "      <td>encoded_routes</td>\n",
       "    </tr>\n",
       "    <tr>\n",
       "      <th>33</th>\n",
       "      <td>encoded_procedure</td>\n",
       "      <td>encoded_procedure</td>\n",
       "    </tr>\n",
       "    <tr>\n",
       "      <th>34</th>\n",
       "      <td>encoded_device</td>\n",
       "      <td>encoded_device</td>\n",
       "    </tr>\n",
       "    <tr>\n",
       "      <th>35</th>\n",
       "      <td>encoded_gender</td>\n",
       "      <td>encoded_gender</td>\n",
       "    </tr>\n",
       "  </tbody>\n",
       "</table>\n",
       "</div>"
      ],
      "text/plain": [
       "                                            columns_1  \\\n",
       "0                             Systolic blood pressure   \n",
       "1                            Diastolic blood pressure   \n",
       "2                                    Body temperature   \n",
       "3                                    Respiratory rate   \n",
       "4                                          Heart rate   \n",
       "5       Measurement of oxygen saturation at periphery   \n",
       "6          Base excess in Venous blood by calculation   \n",
       "7         Phosphate [Moles/volume] in Serum or Plasma   \n",
       "8                   Potassium [Moles/volume] in Blood   \n",
       "9   Bilirubin.total [Moles/volume] in Serum or Plasma   \n",
       "10              Neutrophil Ab [Units/volume] in Serum   \n",
       "11              Hematocrit [Volume Fraction] of Blood   \n",
       "12          Glucose [Moles/volume] in Serum or Plasma   \n",
       "13                   Chloride [Moles/volume] in Blood   \n",
       "14           Sodium [Moles/volume] in Serum or Plasma   \n",
       "15  C reactive protein [Mass/volume] in Serum or P...   \n",
       "16  Carbon dioxide [Partial pressure] in Venous blood   \n",
       "17          Oxygen [Partial pressure] in Venous blood   \n",
       "18           Albumin [Mass/volume] in Serum or Plasma   \n",
       "19         Bicarbonate [Moles/volume] in Venous blood   \n",
       "20                  Magnesium [Moles/volume] in Blood   \n",
       "21     Procalcitonin [Mass/volume] in Serum or Plasma   \n",
       "22                    Lactate [Moles/volume] in Blood   \n",
       "23                  Creatinine [Mass/volume] in Blood   \n",
       "24                              Bilirubin measurement   \n",
       "25                                          activated   \n",
       "26                            Total white blood count   \n",
       "27                             White blood cell count   \n",
       "28                                  Blood arterial pH   \n",
       "29                 Hemoglobin [Moles/volume] in Blood   \n",
       "30                                                age   \n",
       "31                                      encoded_drugs   \n",
       "32                                     encoded_routes   \n",
       "33                                  encoded_procedure   \n",
       "34                                     encoded_device   \n",
       "35                                     encoded_gender   \n",
       "\n",
       "                                            columns_2  \n",
       "0                             Systolic blood pressure  \n",
       "1                            Diastolic blood pressure  \n",
       "2                                    Body temperature  \n",
       "3                                    Respiratory rate  \n",
       "4                                          Heart rate  \n",
       "5       Measurement of oxygen saturation at periphery  \n",
       "6          Base excess in Venous blood by calculation  \n",
       "7         Phosphate [Moles/volume] in Serum or Plasma  \n",
       "8                   Potassium [Moles/volume] in Blood  \n",
       "9   Bilirubin.total [Moles/volume] in Serum or Plasma  \n",
       "10              Neutrophil Ab [Units/volume] in Serum  \n",
       "11              Hematocrit [Volume Fraction] of Blood  \n",
       "12          Glucose [Moles/volume] in Serum or Plasma  \n",
       "13                   Chloride [Moles/volume] in Blood  \n",
       "14           Sodium [Moles/volume] in Serum or Plasma  \n",
       "15  C reactive protein [Mass/volume] in Serum or P...  \n",
       "16  Carbon dioxide [Partial pressure] in Venous blood  \n",
       "17          Oxygen [Partial pressure] in Venous blood  \n",
       "18           Albumin [Mass/volume] in Serum or Plasma  \n",
       "19         Bicarbonate [Moles/volume] in Venous blood  \n",
       "20                  Magnesium [Moles/volume] in Blood  \n",
       "21     Procalcitonin [Mass/volume] in Serum or Plasma  \n",
       "22                    Lactate [Moles/volume] in Blood  \n",
       "23                  Creatinine [Mass/volume] in Blood  \n",
       "24                              Bilirubin measurement  \n",
       "25                                          activated  \n",
       "26                            Total white blood count  \n",
       "27                             White blood cell count  \n",
       "28                                  Blood arterial pH  \n",
       "29                 Hemoglobin [Moles/volume] in Blood  \n",
       "30                                                age  \n",
       "31                                      encoded_drugs  \n",
       "32                                     encoded_routes  \n",
       "33                                  encoded_procedure  \n",
       "34                                     encoded_device  \n",
       "35                                     encoded_gender  "
      ]
     },
     "execution_count": 204,
     "metadata": {},
     "output_type": "execute_result"
    }
   ],
   "source": [
    "col_compare = pd.DataFrame({'columns_1': column_names, 'columns_2': test_data_factors_2.columns})\n",
    "col_compare"
   ]
  },
  {
   "cell_type": "code",
   "execution_count": 275,
   "metadata": {},
   "outputs": [
    {
     "data": {
      "text/html": [
       "<div>\n",
       "<style scoped>\n",
       "    .dataframe tbody tr th:only-of-type {\n",
       "        vertical-align: middle;\n",
       "    }\n",
       "\n",
       "    .dataframe tbody tr th {\n",
       "        vertical-align: top;\n",
       "    }\n",
       "\n",
       "    .dataframe thead th {\n",
       "        text-align: right;\n",
       "    }\n",
       "</style>\n",
       "<table border=\"1\" class=\"dataframe\">\n",
       "  <thead>\n",
       "    <tr style=\"text-align: right;\">\n",
       "      <th></th>\n",
       "      <th>factors</th>\n",
       "      <th>importance</th>\n",
       "    </tr>\n",
       "  </thead>\n",
       "  <tbody>\n",
       "    <tr>\n",
       "      <th>54</th>\n",
       "      <td>gentamicin</td>\n",
       "      <td>6.497630e-02</td>\n",
       "    </tr>\n",
       "    <tr>\n",
       "      <th>56</th>\n",
       "      <td>isavuconazole</td>\n",
       "      <td>5.801501e-02</td>\n",
       "    </tr>\n",
       "    <tr>\n",
       "      <th>78</th>\n",
       "      <td>Intravenous</td>\n",
       "      <td>5.657876e-02</td>\n",
       "    </tr>\n",
       "    <tr>\n",
       "      <th>81</th>\n",
       "      <td>Oral</td>\n",
       "      <td>4.689431e-02</td>\n",
       "    </tr>\n",
       "    <tr>\n",
       "      <th>89</th>\n",
       "      <td>age</td>\n",
       "      <td>4.666120e-02</td>\n",
       "    </tr>\n",
       "    <tr>\n",
       "      <th>...</th>\n",
       "      <td>...</td>\n",
       "      <td>...</td>\n",
       "    </tr>\n",
       "    <tr>\n",
       "      <th>67</th>\n",
       "      <td>penicillin G</td>\n",
       "      <td>9.704972e-08</td>\n",
       "    </tr>\n",
       "    <tr>\n",
       "      <th>34</th>\n",
       "      <td>cefadroxil</td>\n",
       "      <td>5.712812e-10</td>\n",
       "    </tr>\n",
       "    <tr>\n",
       "      <th>32</th>\n",
       "      <td>anidulafungin</td>\n",
       "      <td>9.119627e-11</td>\n",
       "    </tr>\n",
       "    <tr>\n",
       "      <th>83</th>\n",
       "      <td>Rectal</td>\n",
       "      <td>0.000000e+00</td>\n",
       "    </tr>\n",
       "    <tr>\n",
       "      <th>65</th>\n",
       "      <td>nitrofurantoin</td>\n",
       "      <td>0.000000e+00</td>\n",
       "    </tr>\n",
       "  </tbody>\n",
       "</table>\n",
       "<p>92 rows × 2 columns</p>\n",
       "</div>"
      ],
      "text/plain": [
       "           factors    importance\n",
       "54      gentamicin  6.497630e-02\n",
       "56   isavuconazole  5.801501e-02\n",
       "78     Intravenous  5.657876e-02\n",
       "81            Oral  4.689431e-02\n",
       "89             age  4.666120e-02\n",
       "..             ...           ...\n",
       "67    penicillin G  9.704972e-08\n",
       "34      cefadroxil  5.712812e-10\n",
       "32   anidulafungin  9.119627e-11\n",
       "83          Rectal  0.000000e+00\n",
       "65  nitrofurantoin  0.000000e+00\n",
       "\n",
       "[92 rows x 2 columns]"
      ]
     },
     "execution_count": 275,
     "metadata": {},
     "output_type": "execute_result"
    }
   ],
   "source": [
    "importance = pd.DataFrame({'factors': column_names, 'importance': forest.feature_importances_}).sort_values(by='importance',ascending=False)\n",
    "importance"
   ]
  },
  {
   "cell_type": "markdown",
   "metadata": {},
   "source": [
    "##### XGB Model"
   ]
  },
  {
   "cell_type": "code",
   "execution_count": 29,
   "metadata": {},
   "outputs": [],
   "source": [
    "split_data, column_names = format_for_modeling(data_factors_3)"
   ]
  },
  {
   "cell_type": "code",
   "execution_count": 30,
   "metadata": {},
   "outputs": [],
   "source": [
    "def xgb_model(data_dictionary: dict):\n",
    "    X_train = data_dictionary['X_train']\n",
    "    X_test = data_dictionary['X_test']\n",
    "    y_train = data_dictionary['y_train']\n",
    "    y_test = data_dictionary['y_test']\n",
    "    person_id_train = data_dictionary['person_id_train']\n",
    "    person_id_test = data_dictionary['person_id_test']\n",
    "\n",
    "\n",
    "    r_xgb_model = XGBClassifier(scale_pos_weight = 150, learning_rate=0.1, n_estimators=300, max_depth=15)\n",
    "    r_xgb_model.fit(X_train, y_train)\n",
    "\n",
    "    y_pred = r_xgb_model.predict(X_test)\n",
    "    accuracy = accuracy_score(y_test, y_pred)\n",
    "    print(f\"Accuracy score: {accuracy}\")\n",
    "    f1 = f1_score(y_test,y_pred)\n",
    "    print(f\"F1 score: {f1}\")\n",
    "\n",
    "    cm = confusion_matrix(y_test, y_pred)\n",
    "\n",
    "    cmn = cm.astype('float') / cm.sum(axis=1)[:, np.newaxis]\n",
    "    fig, ax = plt.subplots(figsize=(5,5))\n",
    "    sns.heatmap(cmn, annot=True, fmt='.2f', xticklabels=['not sepsis', 'sepsis'], yticklabels=['not sepsis', 'sepsis'])\n",
    "    plt.ylabel('Actual')\n",
    "    plt.xlabel('Predicted')\n",
    "    plt.show(block=False)\n",
    "    return r_xgb_model, y_pred"
   ]
  },
  {
   "cell_type": "code",
   "execution_count": 31,
   "metadata": {},
   "outputs": [
    {
     "name": "stdout",
     "output_type": "stream",
     "text": [
      "Accuracy score: 0.9662173109951716\n",
      "F1 score: 0.40137812230835485\n"
     ]
    },
    {
     "data": {
      "image/png": "[encoded data removed]",
      "text/plain": [
       "<Figure size 500x500 with 2 Axes>"
      ]
     },
     "metadata": {},
     "output_type": "display_data"
    }
   ],
   "source": [
    "# split_data = format_for_modeling(data_factors_3)\n",
    "xgb, preds = xgb_model(split_data)"
   ]
  },
  {
   "cell_type": "markdown",
   "metadata": {},
   "source": [
    "##### HistGradientBoostingClassifier"
   ]
  },
  {
   "cell_type": "code",
   "execution_count": 41,
   "metadata": {},
   "outputs": [],
   "source": [
    "split_data, column_names = format_for_modeling(data_factors_3)\n"
   ]
  },
  {
   "cell_type": "code",
   "execution_count": 49,
   "metadata": {},
   "outputs": [],
   "source": [
    "def run_hgbc(data_dictionary: dict):\n",
    "    X_train = data_dictionary['X_train']\n",
    "    X_test = data_dictionary['X_test']\n",
    "    y_train = data_dictionary['y_train']\n",
    "    y_test = data_dictionary['y_test']\n",
    "    \n",
    "    # class_weight={0:1,1:150}\n",
    "    hgbc_classifier = HistGradientBoostingClassifier(class_weight={0:1,1:50})\n",
    "    hgbc_classifier.fit(X_train, y_train)\n",
    "\n",
    "    y_pred = hgbc_classifier.predict(X_test)\n",
    "    accuracy = accuracy_score(y_test, y_pred)\n",
    "    print(f\"Accuracy score: {accuracy}\")\n",
    "    f1 = f1_score(y_test,y_pred)\n",
    "    print(f\"F1 score: {f1}\")\n",
    "\n",
    "    cm = confusion_matrix(y_test, y_pred)\n",
    "\n",
    "    cmn = cm.astype('float') / cm.sum(axis=1)[:, np.newaxis]\n",
    "    fig, ax = plt.subplots(figsize=(5,5))\n",
    "    sns.heatmap(cmn, annot=True, fmt='.2f', xticklabels=['not sepsis', 'sepsis'], yticklabels=['not sepsis', 'sepsis'])\n",
    "    plt.ylabel('Actual')\n",
    "    plt.xlabel('Predicted')\n",
    "    plt.show(block=False)\n",
    "    return hgbc_classifier, y_pred"
   ]
  },
  {
   "cell_type": "code",
   "execution_count": 50,
   "metadata": {},
   "outputs": [
    {
     "name": "stdout",
     "output_type": "stream",
     "text": [
      "Accuracy score: 0.9564863494435697\n",
      "F1 score: 0.43843636989839846\n"
     ]
    },
    {
     "data": {
      "image/png": "[encoded data removed]",
      "text/plain": [
       "<Figure size 500x500 with 2 Axes>"
      ]
     },
     "metadata": {},
     "output_type": "display_data"
    }
   ],
   "source": [
    "hgbc, preds = run_hgbc(split_data)"
   ]
  },
  {
   "cell_type": "markdown",
   "metadata": {},
   "source": [
    "##### Cross Validation"
   ]
  },
  {
   "cell_type": "code",
   "execution_count": 34,
   "metadata": {},
   "outputs": [],
   "source": [
    "def getting_X_y(df):\n",
    "\n",
    "    df.reset_index()\n",
    "    person_id_index = np.argmax([column.startswith('new_person_id') for column in data_factors_3.columns])\n",
    "    column_list = []\n",
    "    [column_list.append(i) for i in range(1,person_id_index)]\n",
    "    [column_list.append(i) for i in range(person_id_index+1,len(df.columns.values))]\n",
    "    X = df.iloc[:,column_list].values\n",
    "    y = df.iloc[:,0].values\n",
    "    # person_id = df.iloc[:,person_id_index].values\n",
    "    # column_names = df.columns.values[column_list]\n",
    "    np.array(X)\n",
    "    formatted_data = {}\n",
    "    formatted_data['X'] = X\n",
    "    formatted_data['y'] = y\n",
    "\n",
    "    return formatted_data"
   ]
  },
  {
   "cell_type": "code",
   "execution_count": 35,
   "metadata": {},
   "outputs": [],
   "source": [
    "xy_dict = getting_X_y(data_factors_3)"
   ]
  },
  {
   "cell_type": "code",
   "execution_count": null,
   "metadata": {},
   "outputs": [
    {
     "name": "stdout",
     "output_type": "stream",
     "text": [
      "Fold 0:\n",
      "  Train: index=[ 66326  66327  66328 ... 331624 331625 331626]\n",
      "  Test:  index=[    0     1     2 ... 66323 66324 66325]\n",
      "Accuracy score: 0.994527033139342\n",
      "F1 score: 0.866788990825688\n",
      "Fold 1:\n",
      "  Train: index=[     0      1      2 ... 331624 331625 331626]\n",
      "  Test:  index=[ 66326  66327  66328 ... 132649 132650 132651]\n",
      "Accuracy score: 0.9947381117510479\n",
      "F1 score: 0.867752936718454\n",
      "Fold 2:\n",
      "  Train: index=[     0      1      2 ... 331624 331625 331626]\n",
      "  Test:  index=[132652 132653 132654 ... 198974 198975 198976]\n",
      "Accuracy score: 0.9949038823972861\n",
      "F1 score: 0.8730277986476334\n",
      "Fold 3:\n",
      "  Train: index=[     0      1      2 ... 331624 331625 331626]\n",
      "  Test:  index=[198977 198978 198979 ... 265299 265300 265301]\n",
      "Accuracy score: 0.9951601960045232\n",
      "F1 score: 0.8810670618747685\n",
      "Fold 4:\n",
      "  Train: index=[     0      1      2 ... 265299 265300 265301]\n",
      "  Test:  index=[265302 265303 265304 ... 331624 331625 331626]\n",
      "Accuracy score: 0.9941952506596307\n",
      "F1 score: 0.8588192152548588\n"
     ]
    }
   ],
   "source": [
    "X = xy_dict['X']\n",
    "y = xy_dict['y']\n",
    "kf = KFold(n_splits=5)\n",
    "kf.get_n_splits(X)\n",
    "\n",
    "for i, (train_index, test_index) in enumerate(kf.split(X)):\n",
    "    print(f\"Fold {i}:\")\n",
    "    print(f\"  Train: index={train_index}\")\n",
    "    print(f\"  Test:  index={test_index}\")\n",
    "    \n",
    "    r_xgb_model = XGBClassifier(scale_pos_weight = 150, learning_rate=0.1, n_estimators=300, max_depth=15)\n",
    "    r_xgb_model.fit(X[train_index], y[train_index])\n",
    "\n",
    "    y_pred = r_xgb_model.predict(X[test_index])\n",
    "    accuracy = accuracy_score(y[test_index], y_pred)\n",
    "    print(f\"Accuracy score: {accuracy}\")\n",
    "    f1 = f1_score(y[test_index],y_pred)\n",
    "    print(f\"F1 score: {f1}\")\n",
    "    joblib.dump(r_xgb_model,f'xgb_{i}_model.pkl')"
   ]
  },
  {
   "cell_type": "code",
   "execution_count": 51,
   "metadata": {},
   "outputs": [],
   "source": [
    "test = joblib.load('xgb_1_model.pkl')"
   ]
  },
  {
   "cell_type": "markdown",
   "metadata": {},
   "source": [
    "##### Saving model"
   ]
  },
  {
   "cell_type": "code",
   "execution_count": 51,
   "metadata": {},
   "outputs": [
    {
     "data": {
      "text/plain": [
       "['hgbc_model.pkl']"
      ]
     },
     "execution_count": 51,
     "metadata": {},
     "output_type": "execute_result"
    }
   ],
   "source": [
    "joblib.dump(hgbc, 'hgbc_model.pkl')"
   ]
  },
  {
   "cell_type": "markdown",
   "metadata": {},
   "source": [
    "##### Full train"
   ]
  },
  {
   "cell_type": "code",
   "execution_count": 423,
   "metadata": {},
   "outputs": [],
   "source": [
    "def format_for_full_run(df):\n",
    "\n",
    "    df.reset_index()\n",
    "    person_id_index = np.argmax([column.startswith('new_person_id') for column in data_factors_3.columns])\n",
    "    column_list = []\n",
    "    [column_list.append(i) for i in range(1,person_id_index)]\n",
    "    [column_list.append(i) for i in range(person_id_index+1,len(df.columns.values))]\n",
    "    X = df.iloc[:,column_list].values\n",
    "    y = df.iloc[:,0].values\n",
    "    person_id = df.iloc[:,person_id_index].values\n",
    "    column_names = df.columns.values[column_list]\n",
    "        \n",
    "    formatted_data = {}\n",
    "    formatted_data['X'] = X\n",
    "    formatted_data['y'] = y\n",
    "\n",
    "    return formatted_data, column_names"
   ]
  },
  {
   "cell_type": "code",
   "execution_count": 428,
   "metadata": {},
   "outputs": [],
   "source": [
    "split_data, column_names = format_for_full_run(data_factors_3)"
   ]
  },
  {
   "cell_type": "code",
   "execution_count": 429,
   "metadata": {},
   "outputs": [],
   "source": [
    "def xgb_model_full(data_dictionary: dict):\n",
    "    X = data_dictionary['X']\n",
    "    y = data_dictionary['y']\n",
    "\n",
    "\n",
    "    r_xgb_model = XGBClassifier(scale_pos_weight = 150)\n",
    "    r_xgb_model.fit(X,y)\n",
    "\n",
    "    y_pred = r_xgb_model.predict(X)\n",
    "    accuracy = accuracy_score(y, y_pred)\n",
    "    print(f\"Accuracy score: {accuracy}\")\n",
    "    f1 = f1_score(y,y_pred)\n",
    "    print(f\"F1 score: {f1}\")\n",
    "\n",
    "    return r_xgb_model, y_pred"
   ]
  },
  {
   "cell_type": "code",
   "execution_count": 430,
   "metadata": {},
   "outputs": [
    {
     "name": "stdout",
     "output_type": "stream",
     "text": [
      "Accuracy score: 0.965415964321361\n",
      "F1 score: 0.544320394135643\n"
     ]
    }
   ],
   "source": [
    "xgb_full, preds = xgb_model_full(split_data)"
   ]
  },
  {
   "cell_type": "markdown",
   "metadata": {},
   "source": [
    "##### Imputed XGB"
   ]
  },
  {
   "cell_type": "code",
   "execution_count": 182,
   "metadata": {},
   "outputs": [
    {
     "name": "stdout",
     "output_type": "stream",
     "text": [
      "Accuracy score: 0.976100571007552\n",
      "F1 score: 0.3107569721115538\n"
     ]
    },
    {
     "data": {
      "image/png": "[encoded data removed]",
      "text/plain": [
       "<Figure size 500x500 with 2 Axes>"
      ]
     },
     "metadata": {},
     "output_type": "display_data"
    }
   ],
   "source": [
    "imp_split, imp_cols = format_for_modeling(imputed_factors)\n",
    "imp_xgb, imp_preds = xgb_model(imp_split)"
   ]
  },
  {
   "cell_type": "markdown",
   "metadata": {},
   "source": [
    "##### Submission"
   ]
  },
  {
   "cell_type": "code",
   "execution_count": 42,
   "metadata": {},
   "outputs": [
    {
     "ename": "NameError",
     "evalue": "name 'xgb' is not defined",
     "output_type": "error",
     "traceback": [
      "\u001b[1;31m---------------------------------------------------------------------------\u001b[0m",
      "\u001b[1;31mNameError\u001b[0m                                 Traceback (most recent call last)",
      "Cell \u001b[1;32mIn[42], line 1\u001b[0m\n\u001b[1;32m----> 1\u001b[0m prediction_submission \u001b[38;5;241m=\u001b[39m \u001b[43mxgb\u001b[49m\u001b[38;5;241m.\u001b[39mpredict(test_data_factors_2)\n",
      "\u001b[1;31mNameError\u001b[0m: name 'xgb' is not defined"
     ]
    }
   ],
   "source": [
    "prediction_submission = hgbc.predict(test_data_factors_2)"
   ]
  },
  {
   "cell_type": "code",
   "execution_count": 58,
   "metadata": {},
   "outputs": [],
   "source": [
    "def make_pred_file(df: pd.DataFrame, preds: np.array):\n",
    "    predictions = pd.DataFrame()\n",
    "    person_id = df['uid'].copy().apply(lambda x: x[19:])\n",
    "    datetime_val = df['uid'].copy().apply(lambda x: x[:19])\n",
    "    person_id_datetime = person_id + '_' + datetime_val\n",
    "    predictions['person_id_datetime'] = person_id_datetime\n",
    "    predictions['SepsisLabel'] = prediction_submission\n",
    "    predictions.to_csv('sepsis_predictions.csv',index=False)\n",
    "    return predictions"
   ]
  },
  {
   "cell_type": "code",
   "execution_count": 59,
   "metadata": {},
   "outputs": [],
   "source": [
    "testpred = make_pred_file(test_data_factors,prediction_submission)"
   ]
  },
  {
   "cell_type": "code",
   "execution_count": 446,
   "metadata": {},
   "outputs": [],
   "source": [
    "example = pd.read_csv('SepsisLabel_sample_submission.csv')"
   ]
  },
  {
   "cell_type": "markdown",
   "metadata": {},
   "source": [
    "##### model analysis"
   ]
  },
  {
   "cell_type": "code",
   "execution_count": 237,
   "metadata": {},
   "outputs": [],
   "source": [
    "test = readin_data('train')"
   ]
  },
  {
   "cell_type": "code",
   "execution_count": 438,
   "metadata": {},
   "outputs": [
    {
     "name": "stderr",
     "output_type": "stream",
     "text": [
      "c:\\Users\\pears\\AppData\\Local\\Programs\\Python\\Python310\\lib\\site-packages\\xgboost\\core.py:158: UserWarning: [18:15:08] WARNING: C:\\buildkite-agent\\builds\\buildkite-windows-cpu-autoscaling-group-i-0c55ff5f71b100e98-1\\xgboost\\xgboost-ci-windows\\src\\learner.cc:740: \n",
      "Parameters: { \"max_features\", \"max_leaf_nodes\" } are not used.\n",
      "\n",
      "  warnings.warn(smsg, UserWarning)\n"
     ]
    },
    {
     "ename": "KeyboardInterrupt",
     "evalue": "",
     "output_type": "error",
     "traceback": [
      "\u001b[1;31m---------------------------------------------------------------------------\u001b[0m",
      "\u001b[1;31mKeyboardInterrupt\u001b[0m                         Traceback (most recent call last)",
      "Cell \u001b[1;32mIn[438], line 16\u001b[0m\n\u001b[0;32m      7\u001b[0m param_grid \u001b[38;5;241m=\u001b[39m { \n\u001b[0;32m      8\u001b[0m     \u001b[38;5;124m'\u001b[39m\u001b[38;5;124mn_estimators\u001b[39m\u001b[38;5;124m'\u001b[39m: [\u001b[38;5;241m100\u001b[39m, \u001b[38;5;241m150\u001b[39m, \u001b[38;5;241m300\u001b[39m], \n\u001b[0;32m      9\u001b[0m     \u001b[38;5;124m'\u001b[39m\u001b[38;5;124mmax_features\u001b[39m\u001b[38;5;124m'\u001b[39m: [\u001b[38;5;124m'\u001b[39m\u001b[38;5;124msqrt\u001b[39m\u001b[38;5;124m'\u001b[39m, \u001b[38;5;124m'\u001b[39m\u001b[38;5;124mlog2\u001b[39m\u001b[38;5;124m'\u001b[39m, \u001b[38;5;28;01mNone\u001b[39;00m], \n\u001b[0;32m     10\u001b[0m     \u001b[38;5;124m'\u001b[39m\u001b[38;5;124mmax_depth\u001b[39m\u001b[38;5;124m'\u001b[39m: [\u001b[38;5;241m10\u001b[39m, \u001b[38;5;241m15\u001b[39m, \u001b[38;5;241m30\u001b[39m], \n\u001b[0;32m     11\u001b[0m     \u001b[38;5;124m'\u001b[39m\u001b[38;5;124mmax_leaf_nodes\u001b[39m\u001b[38;5;124m'\u001b[39m: [\u001b[38;5;241m3\u001b[39m, \u001b[38;5;241m6\u001b[39m, \u001b[38;5;241m9\u001b[39m], \n\u001b[0;32m     12\u001b[0m } \n\u001b[0;32m     14\u001b[0m grid_search \u001b[38;5;241m=\u001b[39m GridSearchCV(XGBClassifier(), \n\u001b[0;32m     15\u001b[0m \t\t\t\t\t\tparam_grid\u001b[38;5;241m=\u001b[39mparam_grid) \n\u001b[1;32m---> 16\u001b[0m \u001b[43mgrid_search\u001b[49m\u001b[38;5;241;43m.\u001b[39;49m\u001b[43mfit\u001b[49m\u001b[43m(\u001b[49m\u001b[43mX_train\u001b[49m\u001b[43m,\u001b[49m\u001b[43m \u001b[49m\u001b[43my_train\u001b[49m\u001b[43m)\u001b[49m \n\u001b[0;32m     17\u001b[0m \u001b[38;5;28mprint\u001b[39m(grid_search\u001b[38;5;241m.\u001b[39mbest_estimator_) \n",
      "File \u001b[1;32mc:\\Users\\pears\\AppData\\Local\\Programs\\Python\\Python310\\lib\\site-packages\\sklearn\\base.py:1474\u001b[0m, in \u001b[0;36m_fit_context.<locals>.decorator.<locals>.wrapper\u001b[1;34m(estimator, *args, **kwargs)\u001b[0m\n\u001b[0;32m   1467\u001b[0m     estimator\u001b[38;5;241m.\u001b[39m_validate_params()\n\u001b[0;32m   1469\u001b[0m \u001b[38;5;28;01mwith\u001b[39;00m config_context(\n\u001b[0;32m   1470\u001b[0m     skip_parameter_validation\u001b[38;5;241m=\u001b[39m(\n\u001b[0;32m   1471\u001b[0m         prefer_skip_nested_validation \u001b[38;5;129;01mor\u001b[39;00m global_skip_validation\n\u001b[0;32m   1472\u001b[0m     )\n\u001b[0;32m   1473\u001b[0m ):\n\u001b[1;32m-> 1474\u001b[0m     \u001b[38;5;28;01mreturn\u001b[39;00m fit_method(estimator, \u001b[38;5;241m*\u001b[39margs, \u001b[38;5;241m*\u001b[39m\u001b[38;5;241m*\u001b[39mkwargs)\n",
      "File \u001b[1;32mc:\\Users\\pears\\AppData\\Local\\Programs\\Python\\Python310\\lib\\site-packages\\sklearn\\model_selection\\_search.py:970\u001b[0m, in \u001b[0;36mBaseSearchCV.fit\u001b[1;34m(self, X, y, **params)\u001b[0m\n\u001b[0;32m    964\u001b[0m     results \u001b[38;5;241m=\u001b[39m \u001b[38;5;28mself\u001b[39m\u001b[38;5;241m.\u001b[39m_format_results(\n\u001b[0;32m    965\u001b[0m         all_candidate_params, n_splits, all_out, all_more_results\n\u001b[0;32m    966\u001b[0m     )\n\u001b[0;32m    968\u001b[0m     \u001b[38;5;28;01mreturn\u001b[39;00m results\n\u001b[1;32m--> 970\u001b[0m \u001b[38;5;28;43mself\u001b[39;49m\u001b[38;5;241;43m.\u001b[39;49m\u001b[43m_run_search\u001b[49m\u001b[43m(\u001b[49m\u001b[43mevaluate_candidates\u001b[49m\u001b[43m)\u001b[49m\n\u001b[0;32m    972\u001b[0m \u001b[38;5;66;03m# multimetric is determined here because in the case of a callable\u001b[39;00m\n\u001b[0;32m    973\u001b[0m \u001b[38;5;66;03m# self.scoring the return type is only known after calling\u001b[39;00m\n\u001b[0;32m    974\u001b[0m first_test_score \u001b[38;5;241m=\u001b[39m all_out[\u001b[38;5;241m0\u001b[39m][\u001b[38;5;124m\"\u001b[39m\u001b[38;5;124mtest_scores\u001b[39m\u001b[38;5;124m\"\u001b[39m]\n",
      "File \u001b[1;32mc:\\Users\\pears\\AppData\\Local\\Programs\\Python\\Python310\\lib\\site-packages\\sklearn\\model_selection\\_search.py:1527\u001b[0m, in \u001b[0;36mGridSearchCV._run_search\u001b[1;34m(self, evaluate_candidates)\u001b[0m\n\u001b[0;32m   1525\u001b[0m \u001b[38;5;28;01mdef\u001b[39;00m \u001b[38;5;21m_run_search\u001b[39m(\u001b[38;5;28mself\u001b[39m, evaluate_candidates):\n\u001b[0;32m   1526\u001b[0m \u001b[38;5;250m    \u001b[39m\u001b[38;5;124;03m\"\"\"Search all candidates in param_grid\"\"\"\u001b[39;00m\n\u001b[1;32m-> 1527\u001b[0m     \u001b[43mevaluate_candidates\u001b[49m\u001b[43m(\u001b[49m\u001b[43mParameterGrid\u001b[49m\u001b[43m(\u001b[49m\u001b[38;5;28;43mself\u001b[39;49m\u001b[38;5;241;43m.\u001b[39;49m\u001b[43mparam_grid\u001b[49m\u001b[43m)\u001b[49m\u001b[43m)\u001b[49m\n",
      "File \u001b[1;32mc:\\Users\\pears\\AppData\\Local\\Programs\\Python\\Python310\\lib\\site-packages\\sklearn\\model_selection\\_search.py:916\u001b[0m, in \u001b[0;36mBaseSearchCV.fit.<locals>.evaluate_candidates\u001b[1;34m(candidate_params, cv, more_results)\u001b[0m\n\u001b[0;32m    908\u001b[0m \u001b[38;5;28;01mif\u001b[39;00m \u001b[38;5;28mself\u001b[39m\u001b[38;5;241m.\u001b[39mverbose \u001b[38;5;241m>\u001b[39m \u001b[38;5;241m0\u001b[39m:\n\u001b[0;32m    909\u001b[0m     \u001b[38;5;28mprint\u001b[39m(\n\u001b[0;32m    910\u001b[0m         \u001b[38;5;124m\"\u001b[39m\u001b[38;5;124mFitting \u001b[39m\u001b[38;5;132;01m{0}\u001b[39;00m\u001b[38;5;124m folds for each of \u001b[39m\u001b[38;5;132;01m{1}\u001b[39;00m\u001b[38;5;124m candidates,\u001b[39m\u001b[38;5;124m\"\u001b[39m\n\u001b[0;32m    911\u001b[0m         \u001b[38;5;124m\"\u001b[39m\u001b[38;5;124m totalling \u001b[39m\u001b[38;5;132;01m{2}\u001b[39;00m\u001b[38;5;124m fits\u001b[39m\u001b[38;5;124m\"\u001b[39m\u001b[38;5;241m.\u001b[39mformat(\n\u001b[0;32m    912\u001b[0m             n_splits, n_candidates, n_candidates \u001b[38;5;241m*\u001b[39m n_splits\n\u001b[0;32m    913\u001b[0m         )\n\u001b[0;32m    914\u001b[0m     )\n\u001b[1;32m--> 916\u001b[0m out \u001b[38;5;241m=\u001b[39m \u001b[43mparallel\u001b[49m\u001b[43m(\u001b[49m\n\u001b[0;32m    917\u001b[0m \u001b[43m    \u001b[49m\u001b[43mdelayed\u001b[49m\u001b[43m(\u001b[49m\u001b[43m_fit_and_score\u001b[49m\u001b[43m)\u001b[49m\u001b[43m(\u001b[49m\n\u001b[0;32m    918\u001b[0m \u001b[43m        \u001b[49m\u001b[43mclone\u001b[49m\u001b[43m(\u001b[49m\u001b[43mbase_estimator\u001b[49m\u001b[43m)\u001b[49m\u001b[43m,\u001b[49m\n\u001b[0;32m    919\u001b[0m \u001b[43m        \u001b[49m\u001b[43mX\u001b[49m\u001b[43m,\u001b[49m\n\u001b[0;32m    920\u001b[0m \u001b[43m        \u001b[49m\u001b[43my\u001b[49m\u001b[43m,\u001b[49m\n\u001b[0;32m    921\u001b[0m \u001b[43m        \u001b[49m\u001b[43mtrain\u001b[49m\u001b[38;5;241;43m=\u001b[39;49m\u001b[43mtrain\u001b[49m\u001b[43m,\u001b[49m\n\u001b[0;32m    922\u001b[0m \u001b[43m        \u001b[49m\u001b[43mtest\u001b[49m\u001b[38;5;241;43m=\u001b[39;49m\u001b[43mtest\u001b[49m\u001b[43m,\u001b[49m\n\u001b[0;32m    923\u001b[0m \u001b[43m        \u001b[49m\u001b[43mparameters\u001b[49m\u001b[38;5;241;43m=\u001b[39;49m\u001b[43mparameters\u001b[49m\u001b[43m,\u001b[49m\n\u001b[0;32m    924\u001b[0m \u001b[43m        \u001b[49m\u001b[43msplit_progress\u001b[49m\u001b[38;5;241;43m=\u001b[39;49m\u001b[43m(\u001b[49m\u001b[43msplit_idx\u001b[49m\u001b[43m,\u001b[49m\u001b[43m \u001b[49m\u001b[43mn_splits\u001b[49m\u001b[43m)\u001b[49m\u001b[43m,\u001b[49m\n\u001b[0;32m    925\u001b[0m \u001b[43m        \u001b[49m\u001b[43mcandidate_progress\u001b[49m\u001b[38;5;241;43m=\u001b[39;49m\u001b[43m(\u001b[49m\u001b[43mcand_idx\u001b[49m\u001b[43m,\u001b[49m\u001b[43m \u001b[49m\u001b[43mn_candidates\u001b[49m\u001b[43m)\u001b[49m\u001b[43m,\u001b[49m\n\u001b[0;32m    926\u001b[0m \u001b[43m        \u001b[49m\u001b[38;5;241;43m*\u001b[39;49m\u001b[38;5;241;43m*\u001b[39;49m\u001b[43mfit_and_score_kwargs\u001b[49m\u001b[43m,\u001b[49m\n\u001b[0;32m    927\u001b[0m \u001b[43m    \u001b[49m\u001b[43m)\u001b[49m\n\u001b[0;32m    928\u001b[0m \u001b[43m    \u001b[49m\u001b[38;5;28;43;01mfor\u001b[39;49;00m\u001b[43m \u001b[49m\u001b[43m(\u001b[49m\u001b[43mcand_idx\u001b[49m\u001b[43m,\u001b[49m\u001b[43m \u001b[49m\u001b[43mparameters\u001b[49m\u001b[43m)\u001b[49m\u001b[43m,\u001b[49m\u001b[43m \u001b[49m\u001b[43m(\u001b[49m\u001b[43msplit_idx\u001b[49m\u001b[43m,\u001b[49m\u001b[43m \u001b[49m\u001b[43m(\u001b[49m\u001b[43mtrain\u001b[49m\u001b[43m,\u001b[49m\u001b[43m \u001b[49m\u001b[43mtest\u001b[49m\u001b[43m)\u001b[49m\u001b[43m)\u001b[49m\u001b[43m \u001b[49m\u001b[38;5;129;43;01min\u001b[39;49;00m\u001b[43m \u001b[49m\u001b[43mproduct\u001b[49m\u001b[43m(\u001b[49m\n\u001b[0;32m    929\u001b[0m \u001b[43m        \u001b[49m\u001b[38;5;28;43menumerate\u001b[39;49m\u001b[43m(\u001b[49m\u001b[43mcandidate_params\u001b[49m\u001b[43m)\u001b[49m\u001b[43m,\u001b[49m\n\u001b[0;32m    930\u001b[0m \u001b[43m        \u001b[49m\u001b[38;5;28;43menumerate\u001b[39;49m\u001b[43m(\u001b[49m\u001b[43mcv\u001b[49m\u001b[38;5;241;43m.\u001b[39;49m\u001b[43msplit\u001b[49m\u001b[43m(\u001b[49m\u001b[43mX\u001b[49m\u001b[43m,\u001b[49m\u001b[43m \u001b[49m\u001b[43my\u001b[49m\u001b[43m,\u001b[49m\u001b[43m \u001b[49m\u001b[38;5;241;43m*\u001b[39;49m\u001b[38;5;241;43m*\u001b[39;49m\u001b[43mrouted_params\u001b[49m\u001b[38;5;241;43m.\u001b[39;49m\u001b[43msplitter\u001b[49m\u001b[38;5;241;43m.\u001b[39;49m\u001b[43msplit\u001b[49m\u001b[43m)\u001b[49m\u001b[43m)\u001b[49m\u001b[43m,\u001b[49m\n\u001b[0;32m    931\u001b[0m \u001b[43m    \u001b[49m\u001b[43m)\u001b[49m\n\u001b[0;32m    932\u001b[0m \u001b[43m\u001b[49m\u001b[43m)\u001b[49m\n\u001b[0;32m    934\u001b[0m \u001b[38;5;28;01mif\u001b[39;00m \u001b[38;5;28mlen\u001b[39m(out) \u001b[38;5;241m<\u001b[39m \u001b[38;5;241m1\u001b[39m:\n\u001b[0;32m    935\u001b[0m     \u001b[38;5;28;01mraise\u001b[39;00m \u001b[38;5;167;01mValueError\u001b[39;00m(\n\u001b[0;32m    936\u001b[0m         \u001b[38;5;124m\"\u001b[39m\u001b[38;5;124mNo fits were performed. \u001b[39m\u001b[38;5;124m\"\u001b[39m\n\u001b[0;32m    937\u001b[0m         \u001b[38;5;124m\"\u001b[39m\u001b[38;5;124mWas the CV iterator empty? \u001b[39m\u001b[38;5;124m\"\u001b[39m\n\u001b[0;32m    938\u001b[0m         \u001b[38;5;124m\"\u001b[39m\u001b[38;5;124mWere there no candidates?\u001b[39m\u001b[38;5;124m\"\u001b[39m\n\u001b[0;32m    939\u001b[0m     )\n",
      "File \u001b[1;32mc:\\Users\\pears\\AppData\\Local\\Programs\\Python\\Python310\\lib\\site-packages\\sklearn\\utils\\parallel.py:67\u001b[0m, in \u001b[0;36mParallel.__call__\u001b[1;34m(self, iterable)\u001b[0m\n\u001b[0;32m     62\u001b[0m config \u001b[38;5;241m=\u001b[39m get_config()\n\u001b[0;32m     63\u001b[0m iterable_with_config \u001b[38;5;241m=\u001b[39m (\n\u001b[0;32m     64\u001b[0m     (_with_config(delayed_func, config), args, kwargs)\n\u001b[0;32m     65\u001b[0m     \u001b[38;5;28;01mfor\u001b[39;00m delayed_func, args, kwargs \u001b[38;5;129;01min\u001b[39;00m iterable\n\u001b[0;32m     66\u001b[0m )\n\u001b[1;32m---> 67\u001b[0m \u001b[38;5;28;01mreturn\u001b[39;00m \u001b[38;5;28;43msuper\u001b[39;49m\u001b[43m(\u001b[49m\u001b[43m)\u001b[49m\u001b[38;5;241;43m.\u001b[39;49m\u001b[38;5;21;43m__call__\u001b[39;49m\u001b[43m(\u001b[49m\u001b[43miterable_with_config\u001b[49m\u001b[43m)\u001b[49m\n",
      "File \u001b[1;32mc:\\Users\\pears\\AppData\\Local\\Programs\\Python\\Python310\\lib\\site-packages\\joblib\\parallel.py:1918\u001b[0m, in \u001b[0;36mParallel.__call__\u001b[1;34m(self, iterable)\u001b[0m\n\u001b[0;32m   1916\u001b[0m     output \u001b[38;5;241m=\u001b[39m \u001b[38;5;28mself\u001b[39m\u001b[38;5;241m.\u001b[39m_get_sequential_output(iterable)\n\u001b[0;32m   1917\u001b[0m     \u001b[38;5;28mnext\u001b[39m(output)\n\u001b[1;32m-> 1918\u001b[0m     \u001b[38;5;28;01mreturn\u001b[39;00m output \u001b[38;5;28;01mif\u001b[39;00m \u001b[38;5;28mself\u001b[39m\u001b[38;5;241m.\u001b[39mreturn_generator \u001b[38;5;28;01melse\u001b[39;00m \u001b[38;5;28;43mlist\u001b[39;49m\u001b[43m(\u001b[49m\u001b[43moutput\u001b[49m\u001b[43m)\u001b[49m\n\u001b[0;32m   1920\u001b[0m \u001b[38;5;66;03m# Let's create an ID that uniquely identifies the current call. If the\u001b[39;00m\n\u001b[0;32m   1921\u001b[0m \u001b[38;5;66;03m# call is interrupted early and that the same instance is immediately\u001b[39;00m\n\u001b[0;32m   1922\u001b[0m \u001b[38;5;66;03m# re-used, this id will be used to prevent workers that were\u001b[39;00m\n\u001b[0;32m   1923\u001b[0m \u001b[38;5;66;03m# concurrently finalizing a task from the previous call to run the\u001b[39;00m\n\u001b[0;32m   1924\u001b[0m \u001b[38;5;66;03m# callback.\u001b[39;00m\n\u001b[0;32m   1925\u001b[0m \u001b[38;5;28;01mwith\u001b[39;00m \u001b[38;5;28mself\u001b[39m\u001b[38;5;241m.\u001b[39m_lock:\n",
      "File \u001b[1;32mc:\\Users\\pears\\AppData\\Local\\Programs\\Python\\Python310\\lib\\site-packages\\joblib\\parallel.py:1847\u001b[0m, in \u001b[0;36mParallel._get_sequential_output\u001b[1;34m(self, iterable)\u001b[0m\n\u001b[0;32m   1845\u001b[0m \u001b[38;5;28mself\u001b[39m\u001b[38;5;241m.\u001b[39mn_dispatched_batches \u001b[38;5;241m+\u001b[39m\u001b[38;5;241m=\u001b[39m \u001b[38;5;241m1\u001b[39m\n\u001b[0;32m   1846\u001b[0m \u001b[38;5;28mself\u001b[39m\u001b[38;5;241m.\u001b[39mn_dispatched_tasks \u001b[38;5;241m+\u001b[39m\u001b[38;5;241m=\u001b[39m \u001b[38;5;241m1\u001b[39m\n\u001b[1;32m-> 1847\u001b[0m res \u001b[38;5;241m=\u001b[39m func(\u001b[38;5;241m*\u001b[39margs, \u001b[38;5;241m*\u001b[39m\u001b[38;5;241m*\u001b[39mkwargs)\n\u001b[0;32m   1848\u001b[0m \u001b[38;5;28mself\u001b[39m\u001b[38;5;241m.\u001b[39mn_completed_tasks \u001b[38;5;241m+\u001b[39m\u001b[38;5;241m=\u001b[39m \u001b[38;5;241m1\u001b[39m\n\u001b[0;32m   1849\u001b[0m \u001b[38;5;28mself\u001b[39m\u001b[38;5;241m.\u001b[39mprint_progress()\n",
      "File \u001b[1;32mc:\\Users\\pears\\AppData\\Local\\Programs\\Python\\Python310\\lib\\site-packages\\sklearn\\utils\\parallel.py:129\u001b[0m, in \u001b[0;36m_FuncWrapper.__call__\u001b[1;34m(self, *args, **kwargs)\u001b[0m\n\u001b[0;32m    127\u001b[0m     config \u001b[38;5;241m=\u001b[39m {}\n\u001b[0;32m    128\u001b[0m \u001b[38;5;28;01mwith\u001b[39;00m config_context(\u001b[38;5;241m*\u001b[39m\u001b[38;5;241m*\u001b[39mconfig):\n\u001b[1;32m--> 129\u001b[0m     \u001b[38;5;28;01mreturn\u001b[39;00m \u001b[38;5;28mself\u001b[39m\u001b[38;5;241m.\u001b[39mfunction(\u001b[38;5;241m*\u001b[39margs, \u001b[38;5;241m*\u001b[39m\u001b[38;5;241m*\u001b[39mkwargs)\n",
      "File \u001b[1;32mc:\\Users\\pears\\AppData\\Local\\Programs\\Python\\Python310\\lib\\site-packages\\sklearn\\model_selection\\_validation.py:895\u001b[0m, in \u001b[0;36m_fit_and_score\u001b[1;34m(estimator, X, y, scorer, train, test, verbose, parameters, fit_params, score_params, return_train_score, return_parameters, return_n_test_samples, return_times, return_estimator, split_progress, candidate_progress, error_score)\u001b[0m\n\u001b[0;32m    893\u001b[0m         estimator\u001b[38;5;241m.\u001b[39mfit(X_train, \u001b[38;5;241m*\u001b[39m\u001b[38;5;241m*\u001b[39mfit_params)\n\u001b[0;32m    894\u001b[0m     \u001b[38;5;28;01melse\u001b[39;00m:\n\u001b[1;32m--> 895\u001b[0m         estimator\u001b[38;5;241m.\u001b[39mfit(X_train, y_train, \u001b[38;5;241m*\u001b[39m\u001b[38;5;241m*\u001b[39mfit_params)\n\u001b[0;32m    897\u001b[0m \u001b[38;5;28;01mexcept\u001b[39;00m \u001b[38;5;167;01mException\u001b[39;00m:\n\u001b[0;32m    898\u001b[0m     \u001b[38;5;66;03m# Note fit time as time until error\u001b[39;00m\n\u001b[0;32m    899\u001b[0m     fit_time \u001b[38;5;241m=\u001b[39m time\u001b[38;5;241m.\u001b[39mtime() \u001b[38;5;241m-\u001b[39m start_time\n",
      "File \u001b[1;32mc:\\Users\\pears\\AppData\\Local\\Programs\\Python\\Python310\\lib\\site-packages\\xgboost\\core.py:726\u001b[0m, in \u001b[0;36mrequire_keyword_args.<locals>.throw_if.<locals>.inner_f\u001b[1;34m(*args, **kwargs)\u001b[0m\n\u001b[0;32m    724\u001b[0m \u001b[38;5;28;01mfor\u001b[39;00m k, arg \u001b[38;5;129;01min\u001b[39;00m \u001b[38;5;28mzip\u001b[39m(sig\u001b[38;5;241m.\u001b[39mparameters, args):\n\u001b[0;32m    725\u001b[0m     kwargs[k] \u001b[38;5;241m=\u001b[39m arg\n\u001b[1;32m--> 726\u001b[0m \u001b[38;5;28;01mreturn\u001b[39;00m func(\u001b[38;5;241m*\u001b[39m\u001b[38;5;241m*\u001b[39mkwargs)\n",
      "File \u001b[1;32mc:\\Users\\pears\\AppData\\Local\\Programs\\Python\\Python310\\lib\\site-packages\\xgboost\\sklearn.py:1531\u001b[0m, in \u001b[0;36mXGBClassifier.fit\u001b[1;34m(self, X, y, sample_weight, base_margin, eval_set, verbose, xgb_model, sample_weight_eval_set, base_margin_eval_set, feature_weights)\u001b[0m\n\u001b[0;32m   1511\u001b[0m model, metric, params \u001b[38;5;241m=\u001b[39m \u001b[38;5;28mself\u001b[39m\u001b[38;5;241m.\u001b[39m_configure_fit(xgb_model, params)\n\u001b[0;32m   1512\u001b[0m train_dmatrix, evals \u001b[38;5;241m=\u001b[39m _wrap_evaluation_matrices(\n\u001b[0;32m   1513\u001b[0m     missing\u001b[38;5;241m=\u001b[39m\u001b[38;5;28mself\u001b[39m\u001b[38;5;241m.\u001b[39mmissing,\n\u001b[0;32m   1514\u001b[0m     X\u001b[38;5;241m=\u001b[39mX,\n\u001b[1;32m   (...)\u001b[0m\n\u001b[0;32m   1528\u001b[0m     feature_types\u001b[38;5;241m=\u001b[39m\u001b[38;5;28mself\u001b[39m\u001b[38;5;241m.\u001b[39mfeature_types,\n\u001b[0;32m   1529\u001b[0m )\n\u001b[1;32m-> 1531\u001b[0m \u001b[38;5;28mself\u001b[39m\u001b[38;5;241m.\u001b[39m_Booster \u001b[38;5;241m=\u001b[39m \u001b[43mtrain\u001b[49m\u001b[43m(\u001b[49m\n\u001b[0;32m   1532\u001b[0m \u001b[43m    \u001b[49m\u001b[43mparams\u001b[49m\u001b[43m,\u001b[49m\n\u001b[0;32m   1533\u001b[0m \u001b[43m    \u001b[49m\u001b[43mtrain_dmatrix\u001b[49m\u001b[43m,\u001b[49m\n\u001b[0;32m   1534\u001b[0m \u001b[43m    \u001b[49m\u001b[38;5;28;43mself\u001b[39;49m\u001b[38;5;241;43m.\u001b[39;49m\u001b[43mget_num_boosting_rounds\u001b[49m\u001b[43m(\u001b[49m\u001b[43m)\u001b[49m\u001b[43m,\u001b[49m\n\u001b[0;32m   1535\u001b[0m \u001b[43m    \u001b[49m\u001b[43mevals\u001b[49m\u001b[38;5;241;43m=\u001b[39;49m\u001b[43mevals\u001b[49m\u001b[43m,\u001b[49m\n\u001b[0;32m   1536\u001b[0m \u001b[43m    \u001b[49m\u001b[43mearly_stopping_rounds\u001b[49m\u001b[38;5;241;43m=\u001b[39;49m\u001b[38;5;28;43mself\u001b[39;49m\u001b[38;5;241;43m.\u001b[39;49m\u001b[43mearly_stopping_rounds\u001b[49m\u001b[43m,\u001b[49m\n\u001b[0;32m   1537\u001b[0m \u001b[43m    \u001b[49m\u001b[43mevals_result\u001b[49m\u001b[38;5;241;43m=\u001b[39;49m\u001b[43mevals_result\u001b[49m\u001b[43m,\u001b[49m\n\u001b[0;32m   1538\u001b[0m \u001b[43m    \u001b[49m\u001b[43mobj\u001b[49m\u001b[38;5;241;43m=\u001b[39;49m\u001b[43mobj\u001b[49m\u001b[43m,\u001b[49m\n\u001b[0;32m   1539\u001b[0m \u001b[43m    \u001b[49m\u001b[43mcustom_metric\u001b[49m\u001b[38;5;241;43m=\u001b[39;49m\u001b[43mmetric\u001b[49m\u001b[43m,\u001b[49m\n\u001b[0;32m   1540\u001b[0m \u001b[43m    \u001b[49m\u001b[43mverbose_eval\u001b[49m\u001b[38;5;241;43m=\u001b[39;49m\u001b[43mverbose\u001b[49m\u001b[43m,\u001b[49m\n\u001b[0;32m   1541\u001b[0m \u001b[43m    \u001b[49m\u001b[43mxgb_model\u001b[49m\u001b[38;5;241;43m=\u001b[39;49m\u001b[43mmodel\u001b[49m\u001b[43m,\u001b[49m\n\u001b[0;32m   1542\u001b[0m \u001b[43m    \u001b[49m\u001b[43mcallbacks\u001b[49m\u001b[38;5;241;43m=\u001b[39;49m\u001b[38;5;28;43mself\u001b[39;49m\u001b[38;5;241;43m.\u001b[39;49m\u001b[43mcallbacks\u001b[49m\u001b[43m,\u001b[49m\n\u001b[0;32m   1543\u001b[0m \u001b[43m\u001b[49m\u001b[43m)\u001b[49m\n\u001b[0;32m   1545\u001b[0m \u001b[38;5;28;01mif\u001b[39;00m \u001b[38;5;129;01mnot\u001b[39;00m \u001b[38;5;28mcallable\u001b[39m(\u001b[38;5;28mself\u001b[39m\u001b[38;5;241m.\u001b[39mobjective):\n\u001b[0;32m   1546\u001b[0m     \u001b[38;5;28mself\u001b[39m\u001b[38;5;241m.\u001b[39mobjective \u001b[38;5;241m=\u001b[39m params[\u001b[38;5;124m\"\u001b[39m\u001b[38;5;124mobjective\u001b[39m\u001b[38;5;124m\"\u001b[39m]\n",
      "File \u001b[1;32mc:\\Users\\pears\\AppData\\Local\\Programs\\Python\\Python310\\lib\\site-packages\\xgboost\\core.py:726\u001b[0m, in \u001b[0;36mrequire_keyword_args.<locals>.throw_if.<locals>.inner_f\u001b[1;34m(*args, **kwargs)\u001b[0m\n\u001b[0;32m    724\u001b[0m \u001b[38;5;28;01mfor\u001b[39;00m k, arg \u001b[38;5;129;01min\u001b[39;00m \u001b[38;5;28mzip\u001b[39m(sig\u001b[38;5;241m.\u001b[39mparameters, args):\n\u001b[0;32m    725\u001b[0m     kwargs[k] \u001b[38;5;241m=\u001b[39m arg\n\u001b[1;32m--> 726\u001b[0m \u001b[38;5;28;01mreturn\u001b[39;00m func(\u001b[38;5;241m*\u001b[39m\u001b[38;5;241m*\u001b[39mkwargs)\n",
      "File \u001b[1;32mc:\\Users\\pears\\AppData\\Local\\Programs\\Python\\Python310\\lib\\site-packages\\xgboost\\training.py:181\u001b[0m, in \u001b[0;36mtrain\u001b[1;34m(params, dtrain, num_boost_round, evals, obj, feval, maximize, early_stopping_rounds, evals_result, verbose_eval, xgb_model, callbacks, custom_metric)\u001b[0m\n\u001b[0;32m    179\u001b[0m \u001b[38;5;28;01mif\u001b[39;00m cb_container\u001b[38;5;241m.\u001b[39mbefore_iteration(bst, i, dtrain, evals):\n\u001b[0;32m    180\u001b[0m     \u001b[38;5;28;01mbreak\u001b[39;00m\n\u001b[1;32m--> 181\u001b[0m \u001b[43mbst\u001b[49m\u001b[38;5;241;43m.\u001b[39;49m\u001b[43mupdate\u001b[49m\u001b[43m(\u001b[49m\u001b[43mdtrain\u001b[49m\u001b[43m,\u001b[49m\u001b[43m \u001b[49m\u001b[43miteration\u001b[49m\u001b[38;5;241;43m=\u001b[39;49m\u001b[43mi\u001b[49m\u001b[43m,\u001b[49m\u001b[43m \u001b[49m\u001b[43mfobj\u001b[49m\u001b[38;5;241;43m=\u001b[39;49m\u001b[43mobj\u001b[49m\u001b[43m)\u001b[49m\n\u001b[0;32m    182\u001b[0m \u001b[38;5;28;01mif\u001b[39;00m cb_container\u001b[38;5;241m.\u001b[39mafter_iteration(bst, i, dtrain, evals):\n\u001b[0;32m    183\u001b[0m     \u001b[38;5;28;01mbreak\u001b[39;00m\n",
      "File \u001b[1;32mc:\\Users\\pears\\AppData\\Local\\Programs\\Python\\Python310\\lib\\site-packages\\xgboost\\core.py:2101\u001b[0m, in \u001b[0;36mBooster.update\u001b[1;34m(self, dtrain, iteration, fobj)\u001b[0m\n\u001b[0;32m   2097\u001b[0m \u001b[38;5;28mself\u001b[39m\u001b[38;5;241m.\u001b[39m_assign_dmatrix_features(dtrain)\n\u001b[0;32m   2099\u001b[0m \u001b[38;5;28;01mif\u001b[39;00m fobj \u001b[38;5;129;01mis\u001b[39;00m \u001b[38;5;28;01mNone\u001b[39;00m:\n\u001b[0;32m   2100\u001b[0m     _check_call(\n\u001b[1;32m-> 2101\u001b[0m         \u001b[43m_LIB\u001b[49m\u001b[38;5;241;43m.\u001b[39;49m\u001b[43mXGBoosterUpdateOneIter\u001b[49m\u001b[43m(\u001b[49m\n\u001b[0;32m   2102\u001b[0m \u001b[43m            \u001b[49m\u001b[38;5;28;43mself\u001b[39;49m\u001b[38;5;241;43m.\u001b[39;49m\u001b[43mhandle\u001b[49m\u001b[43m,\u001b[49m\u001b[43m \u001b[49m\u001b[43mctypes\u001b[49m\u001b[38;5;241;43m.\u001b[39;49m\u001b[43mc_int\u001b[49m\u001b[43m(\u001b[49m\u001b[43miteration\u001b[49m\u001b[43m)\u001b[49m\u001b[43m,\u001b[49m\u001b[43m \u001b[49m\u001b[43mdtrain\u001b[49m\u001b[38;5;241;43m.\u001b[39;49m\u001b[43mhandle\u001b[49m\n\u001b[0;32m   2103\u001b[0m \u001b[43m        \u001b[49m\u001b[43m)\u001b[49m\n\u001b[0;32m   2104\u001b[0m     )\n\u001b[0;32m   2105\u001b[0m \u001b[38;5;28;01melse\u001b[39;00m:\n\u001b[0;32m   2106\u001b[0m     pred \u001b[38;5;241m=\u001b[39m \u001b[38;5;28mself\u001b[39m\u001b[38;5;241m.\u001b[39mpredict(dtrain, output_margin\u001b[38;5;241m=\u001b[39m\u001b[38;5;28;01mTrue\u001b[39;00m, training\u001b[38;5;241m=\u001b[39m\u001b[38;5;28;01mTrue\u001b[39;00m)\n",
      "\u001b[1;31mKeyboardInterrupt\u001b[0m: "
     ]
    }
   ],
   "source": [
    "X_train = split_data['X_train']\n",
    "X_test = split_data['X_test']\n",
    "y_train = split_data['y_train']\n",
    "y_test = split_data['y_test']\n",
    "\n",
    "\n",
    "param_grid = { \n",
    "    'n_estimators': [100, 150, 300], \n",
    "    'max_features': ['sqrt', 'log2', None], \n",
    "    'max_depth': [10, 15, 30], \n",
    "    'max_leaf_nodes': [3, 6, 9], \n",
    "} \n",
    "\n",
    "grid_search = GridSearchCV(RandomForestClassifier(), \n",
    "\t\t\t\t\t\tparam_grid=param_grid) \n",
    "grid_search.fit(X_train, y_train) \n",
    "print(grid_search.best_estimator_) \n"
   ]
  },
  {
   "cell_type": "code",
   "execution_count": 442,
   "metadata": {},
   "outputs": [
    {
     "name": "stdout",
     "output_type": "stream",
     "text": [
      "XGBClassifier(base_score=None, booster=None, callbacks=None,\n",
      "              colsample_bylevel=None, colsample_bynode=None,\n",
      "              colsample_bytree=None, device=None, early_stopping_rounds=None,\n",
      "              enable_categorical=False, eval_metric=None, feature_types=None,\n",
      "              gamma=None, grow_policy=None, importance_type=None,\n",
      "              interaction_constraints=None, learning_rate=0.1, max_bin=None,\n",
      "              max_cat_threshold=None, max_cat_to_onehot=None,\n",
      "              max_delta_step=None, max_depth=10, max_leaves=None,\n",
      "              min_child_weight=None, missing=nan, monotone_constraints=None,\n",
      "              multi_strategy=None, n_estimators=300, n_jobs=None,\n",
      "              num_parallel_tree=None, random_state=None, ...)\n"
     ]
    }
   ],
   "source": [
    "X_train = split_data['X_train']\n",
    "X_test = split_data['X_test']\n",
    "y_train = split_data['y_train']\n",
    "y_test = split_data['y_test']\n",
    "\n",
    "\n",
    "param_grid = { \n",
    "    'n_estimators': [100, 300], \n",
    "    'max_depth': [10, 15, 30], \n",
    "    'learning_rate': [0.1, 0.01, 0.05]\n",
    "} \n",
    "\n",
    "grid_search = GridSearchCV(XGBClassifier(), \n",
    "\t\t\t\t\t\tparam_grid=param_grid) \n",
    "grid_search.fit(X_train, y_train) \n",
    "print(grid_search.best_estimator_) \n"
   ]
  }
 ],
 "metadata": {
  "kernelspec": {
   "display_name": "Python 3",
   "language": "python",
   "name": "python3"
  },
  "language_info": {
   "codemirror_mode": {
    "name": "ipython",
    "version": 3
   },
   "file_extension": ".py",
   "mimetype": "text/x-python",
   "name": "python",
   "nbconvert_exporter": "python",
   "pygments_lexer": "ipython3",
   "version": "3.10.11"
  }
 },
 "nbformat": 4,
 "nbformat_minor": 2
}
