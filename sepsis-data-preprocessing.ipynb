{
 "cells": [
  {
   "cell_type": "code",
   "execution_count": 55,
   "metadata": {},
   "outputs": [],
   "source": [
    "import pandas as pd\n",
    "import numpy as np\n",
    "import os\n",
    "from collections import Counter\n",
    "from datetime import datetime\n",
    "\n",
    "pd.set_option('display.max_columns', None)\n",
    "pd.set_option('display.max_rows', None)"
   ]
  },
  {
   "cell_type": "code",
   "execution_count": 175,
   "metadata": {},
   "outputs": [],
   "source": [
    "def readin_data(data_type: str):\n",
    "    \"\"\" This function reads in test or train data, which should be in folders 'testing_data' and 'training_data' in the same directory.\n",
    "\n",
    "    Parameters\n",
    "    ----------\n",
    "    'data_type' : str\n",
    "        This should be 'test' or 'train'.\n",
    "    \"\"\"\n",
    "    assert (data_type=='test') or (data_type=='train'), f'You gave data_type as {data_type}. Please define data_type as \"test\" or \"train.\"'\n",
    "    if data_type == 'test':\n",
    "        inner_directory = './testing_data/'\n",
    "        data_list = os.listdir('./testing_data')\n",
    "    else:\n",
    "        inner_directory = './training_data/'\n",
    "        data_list = os.listdir('./training_data')\n",
    "    data_dict = {}\n",
    "    for file_name in data_list:\n",
    "        data_dict[file_name.split('.')[0]] = pd.read_csv(inner_directory+file_name).drop_duplicates()\n",
    "    return data_dict"
   ]
  },
  {
   "cell_type": "code",
   "execution_count": 226,
   "metadata": {},
   "outputs": [],
   "source": [
    "training_data = readin_data('train')"
   ]
  },
  {
   "cell_type": "code",
   "execution_count": 114,
   "metadata": {},
   "outputs": [],
   "source": [
    "os.makedirs('./processed_data')"
   ]
  },
  {
   "cell_type": "code",
   "execution_count": 235,
   "metadata": {},
   "outputs": [],
   "source": [
    "def add_uids(data_dictionary: dict):\n",
    "    \"\"\" This function adds a UID to each row to establish unique instances between person_id & measurement datetimes for the various tables.\n",
    "    \n",
    "    This is not done for the demographics file since the information in it is not sensitive to the hour.\n",
    "\n",
    "    Parameters\n",
    "    ----------\n",
    "    'datadictionary' : dict\n",
    "        A dictionary of pandas DataFrames.\n",
    "    \"\"\"\n",
    "    for table_ind in list(data_dictionary.keys()):\n",
    "        if not table_ind.startswith(\"person_demographics\"):\n",
    "            table = data_dictionary[table_ind]\n",
    "            datetime_index = np.argmax([i.find('datetime') for i in table.columns])\n",
    "            date_column = table.columns[datetime_index]\n",
    "            personid_index = np.argmax([i.find('person_id') for i in table.columns])\n",
    "            personid_column = table.columns[personid_index]\n",
    "            table['uid'] = table[date_column].astype(str) + table[personid_column].astype(str)\n",
    "            table.drop(columns=[date_column,personid_column],inplace=True)\n",
    "        data_dictionary[table_ind] = table"
   ]
  },
  {
   "cell_type": "code",
   "execution_count": 231,
   "metadata": {},
   "outputs": [],
   "source": [
    "add_uids(training_data)"
   ]
  },
  {
   "cell_type": "code",
   "execution_count": 225,
   "metadata": {},
   "outputs": [],
   "source": [
    "def birthday_management(data_dictionary: dict):\n",
    "    \"\"\"\n",
    "    This function processes the 'person_demographics' table of given data, which is inputed as a dictionary. The data in dictionary is replaced by index, hence function returns nothing.\n",
    "\n",
    "    Parameters\n",
    "    ----------\n",
    "    'datadictionary' : dict\n",
    "        A dictionary of pandas DataFrames.\n",
    "    \"\"\"\n",
    "    demographics_ind_no = np.argmax([table.startswith(\"person_demographics\") for table in training_data.keys()])\n",
    "    demographics_index = list(training_data.keys())[demographics_ind_no]\n",
    "    demographics = data_dictionary[demographics_index]\n",
    "\n",
    "    new_birthday_col = pd.DataFrame(columns=['birthday_formatted', 'person_id'])\n",
    "    new_visit_col = pd.DataFrame(columns=['visit_start_date','new_visit_startdate'])\n",
    "    \n",
    "    for person in np.unique(demographics['person_id']):\n",
    "        birthday = demographics[demographics['person_id']==person]['birth_datetime'].to_list()[0]\n",
    "        birthday_formatted = datetime.strptime(birthday,'%Y-%m-%d')\n",
    "        new_birthday_col.loc[len(new_birthday_col)] = [birthday_formatted, person]\n",
    "\n",
    "    for date in np.unique(demographics['visit_start_date']):\n",
    "        visit_start = demographics[demographics['visit_start_date']==date]['visit_start_date'].to_list()[0]\n",
    "        new_visit_startdate = datetime.strptime(visit_start,'%Y-%m-%d')\n",
    "        # print(f'new {new_visit_startdate} old {date}')\n",
    "        new_visit_col.loc[len(new_visit_col)] = [date, new_visit_startdate]\n",
    "\n",
    "\n",
    "    demographics = pd.merge(left=demographics,right=new_birthday_col,how='left',on='person_id')\n",
    "    demographics = pd.merge(left=demographics,right=new_visit_col,how='left',on='visit_start_date')\n",
    "    demographics.drop(columns=['visit_start_date','birth_datetime'],inplace=True)\n",
    "    demographics.to_csv(f'./processed_data/processed_{demographics_index}.csv')\n",
    "    data_dictionary[demographics_index] = demographics\n",
    "    return None"
   ]
  },
  {
   "cell_type": "code",
   "execution_count": 227,
   "metadata": {},
   "outputs": [],
   "source": [
    "birthday_management(training_data)"
   ]
  },
  {
   "cell_type": "code",
   "execution_count": 112,
   "metadata": {},
   "outputs": [
    {
     "data": {
      "text/plain": [
       "dict_keys(['devices_train', 'drugsexposure_train', 'measurement_lab_train', 'measurement_meds_train', 'measurement_observation_train', 'observation_train', 'person_demographics_episode_train', 'proceduresoccurrences_train', 'SepsisLabel_train'])"
      ]
     },
     "execution_count": 112,
     "metadata": {},
     "output_type": "execute_result"
    }
   ],
   "source": [
    "training_data.keys()"
   ]
  },
  {
   "cell_type": "code",
   "execution_count": 194,
   "metadata": {},
   "outputs": [],
   "source": [
    "def measurement_meds_processing(data_dictionary: dict):\n",
    "    \"\"\" This function processes the 'measurement_meds' table of given data, which is inputed in a dictionary. The data in dictionary is replaced by index, hence function returns nothing.\n",
    "\n",
    "    Parameters\n",
    "    ----------\n",
    "    'datadictionary' : dict\n",
    "        A dictionary of pandas DataFrames.\n",
    "    \"\"\"\n",
    "    body_measurements_ind = np.argmax([table.startswith(\"measurement_meds\") for table in training_data.keys()])\n",
    "    body_measurements_index = list(training_data.keys())[body_measurements_ind]\n",
    "    measurements = data_dictionary[body_measurements_index]\n",
    "    \n",
    "    measurements = measurements.dropna(subset=measurements.select_dtypes(float).columns, how='all')\n",
    "    # measurements.drop(index=[i for i in measurements[measurements['Body temperature']>45].index], axis=1,inplace=True)\n",
    "    measurements['Body temperature'] = measurements['Body temperature'].apply(lambda x: np.nan if x >46 else x)\n",
    "    data_dictionary[body_measurements_index] = measurements\n",
    "    return None"
   ]
  },
  {
   "cell_type": "code",
   "execution_count": 190,
   "metadata": {},
   "outputs": [
    {
     "name": "stdout",
     "output_type": "stream",
     "text": [
      "Index(['visit_occurrence_id', 'person_id', 'measurement_datetime',\n",
      "       'Systolic blood pressure', 'Diastolic blood pressure',\n",
      "       'Body temperature', 'Respiratory rate', 'Heart rate',\n",
      "       'Measurement of oxygen saturation at periphery',\n",
      "       'Oxygen/Gas total [Pure volume fraction] Inhaled gas'],\n",
      "      dtype='object')\n"
     ]
    }
   ],
   "source": [
    "measurement_meds_processing(training_data)"
   ]
  },
  {
   "cell_type": "code",
   "execution_count": 224,
   "metadata": {},
   "outputs": [
    {
     "data": {
      "text/html": [
       "<div>\n",
       "<style scoped>\n",
       "    .dataframe tbody tr th:only-of-type {\n",
       "        vertical-align: middle;\n",
       "    }\n",
       "\n",
       "    .dataframe tbody tr th {\n",
       "        vertical-align: top;\n",
       "    }\n",
       "\n",
       "    .dataframe thead th {\n",
       "        text-align: right;\n",
       "    }\n",
       "</style>\n",
       "<table border=\"1\" class=\"dataframe\">\n",
       "  <thead>\n",
       "    <tr style=\"text-align: right;\">\n",
       "      <th></th>\n",
       "      <th>visit_occurrence_id</th>\n",
       "      <th>person_id</th>\n",
       "      <th>visit_start_date</th>\n",
       "      <th>birth_datetime</th>\n",
       "      <th>age_in_months</th>\n",
       "      <th>gender</th>\n",
       "      <th>birthday_formatted</th>\n",
       "      <th>new_visit_startdate</th>\n",
       "    </tr>\n",
       "  </thead>\n",
       "  <tbody>\n",
       "    <tr>\n",
       "      <th>536</th>\n",
       "      <td>1269290336</td>\n",
       "      <td>285203296</td>\n",
       "      <td>2019-08-13</td>\n",
       "      <td>2013-11-21</td>\n",
       "      <td>69</td>\n",
       "      <td>MALE</td>\n",
       "      <td>2013-11-21</td>\n",
       "      <td>2019-08-13</td>\n",
       "    </tr>\n",
       "    <tr>\n",
       "      <th>537</th>\n",
       "      <td>510079749</td>\n",
       "      <td>285203296</td>\n",
       "      <td>2021-03-27</td>\n",
       "      <td>2013-11-21</td>\n",
       "      <td>88</td>\n",
       "      <td>MALE</td>\n",
       "      <td>2013-11-21</td>\n",
       "      <td>2021-03-27</td>\n",
       "    </tr>\n",
       "    <tr>\n",
       "      <th>538</th>\n",
       "      <td>1864970011</td>\n",
       "      <td>285203296</td>\n",
       "      <td>2021-05-13</td>\n",
       "      <td>2013-11-21</td>\n",
       "      <td>90</td>\n",
       "      <td>MALE</td>\n",
       "      <td>2013-11-21</td>\n",
       "      <td>2021-05-13</td>\n",
       "    </tr>\n",
       "    <tr>\n",
       "      <th>539</th>\n",
       "      <td>260222424</td>\n",
       "      <td>285203296</td>\n",
       "      <td>2021-08-10</td>\n",
       "      <td>2013-11-21</td>\n",
       "      <td>93</td>\n",
       "      <td>MALE</td>\n",
       "      <td>2013-11-21</td>\n",
       "      <td>2021-08-10</td>\n",
       "    </tr>\n",
       "    <tr>\n",
       "      <th>540</th>\n",
       "      <td>1633339455</td>\n",
       "      <td>285203296</td>\n",
       "      <td>2021-12-23</td>\n",
       "      <td>2013-11-21</td>\n",
       "      <td>97</td>\n",
       "      <td>MALE</td>\n",
       "      <td>2013-11-21</td>\n",
       "      <td>2021-12-23</td>\n",
       "    </tr>\n",
       "    <tr>\n",
       "      <th>541</th>\n",
       "      <td>1972916064</td>\n",
       "      <td>285203296</td>\n",
       "      <td>2024-03-28</td>\n",
       "      <td>2013-11-21</td>\n",
       "      <td>124</td>\n",
       "      <td>MALE</td>\n",
       "      <td>2013-11-21</td>\n",
       "      <td>2024-03-28</td>\n",
       "    </tr>\n",
       "    <tr>\n",
       "      <th>542</th>\n",
       "      <td>483842634</td>\n",
       "      <td>285203296</td>\n",
       "      <td>2024-04-13</td>\n",
       "      <td>2013-11-21</td>\n",
       "      <td>125</td>\n",
       "      <td>MALE</td>\n",
       "      <td>2013-11-21</td>\n",
       "      <td>2024-04-13</td>\n",
       "    </tr>\n",
       "    <tr>\n",
       "      <th>543</th>\n",
       "      <td>810102040</td>\n",
       "      <td>285203296</td>\n",
       "      <td>2024-04-27</td>\n",
       "      <td>2013-11-21</td>\n",
       "      <td>125</td>\n",
       "      <td>MALE</td>\n",
       "      <td>2013-11-21</td>\n",
       "      <td>2024-04-27</td>\n",
       "    </tr>\n",
       "    <tr>\n",
       "      <th>544</th>\n",
       "      <td>73355065</td>\n",
       "      <td>285203296</td>\n",
       "      <td>2024-05-08</td>\n",
       "      <td>2013-11-21</td>\n",
       "      <td>126</td>\n",
       "      <td>MALE</td>\n",
       "      <td>2013-11-21</td>\n",
       "      <td>2024-05-08</td>\n",
       "    </tr>\n",
       "  </tbody>\n",
       "</table>\n",
       "</div>"
      ],
      "text/plain": [
       "     visit_occurrence_id  person_id visit_start_date birth_datetime  \\\n",
       "536           1269290336  285203296       2019-08-13     2013-11-21   \n",
       "537            510079749  285203296       2021-03-27     2013-11-21   \n",
       "538           1864970011  285203296       2021-05-13     2013-11-21   \n",
       "539            260222424  285203296       2021-08-10     2013-11-21   \n",
       "540           1633339455  285203296       2021-12-23     2013-11-21   \n",
       "541           1972916064  285203296       2024-03-28     2013-11-21   \n",
       "542            483842634  285203296       2024-04-13     2013-11-21   \n",
       "543            810102040  285203296       2024-04-27     2013-11-21   \n",
       "544             73355065  285203296       2024-05-08     2013-11-21   \n",
       "\n",
       "     age_in_months gender birthday_formatted new_visit_startdate  \n",
       "536             69   MALE         2013-11-21          2019-08-13  \n",
       "537             88   MALE         2013-11-21          2021-03-27  \n",
       "538             90   MALE         2013-11-21          2021-05-13  \n",
       "539             93   MALE         2013-11-21          2021-08-10  \n",
       "540             97   MALE         2013-11-21          2021-12-23  \n",
       "541            124   MALE         2013-11-21          2024-03-28  \n",
       "542            125   MALE         2013-11-21          2024-04-13  \n",
       "543            125   MALE         2013-11-21          2024-04-27  \n",
       "544            126   MALE         2013-11-21          2024-05-08  "
      ]
     },
     "execution_count": 224,
     "metadata": {},
     "output_type": "execute_result"
    }
   ],
   "source": [
    "training_data['person_demographics_episode_train'][training_data['person_demographics_episode_train']['person_id']==285203296]"
   ]
  }
 ],
 "metadata": {
  "kernelspec": {
   "display_name": "Python 3",
   "language": "python",
   "name": "python3"
  },
  "language_info": {
   "codemirror_mode": {
    "name": "ipython",
    "version": 3
   },
   "file_extension": ".py",
   "mimetype": "text/x-python",
   "name": "python",
   "nbconvert_exporter": "python",
   "pygments_lexer": "ipython3",
   "version": "3.10.11"
  }
 },
 "nbformat": 4,
 "nbformat_minor": 2
}
