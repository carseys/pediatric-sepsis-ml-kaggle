{
 "cells": [
  {
   "cell_type": "code",
   "execution_count": null,
   "metadata": {},
   "outputs": [],
   "source": [
    "from matplotlib import pyplot as plt\n",
    "from sklearn.ensemble import RandomForestClassifier\n",
    "from sklearn.model_selection import GroupShuffleSplit\n",
    "from sklearn.metrics import accuracy_score, confusion_matrix, ConfusionMatrixDisplay, f1_score\n",
    "from xgboost import XGBClassifier\n",
    "from sklearn.ensemble import HistGradientBoostingClassifier\n",
    "\n",
    "\n",
    "from collections import Counter\n",
    "from datetime import datetime\n",
    "from tqdm import tqdm\n",
    "import seaborn as sns\n",
    "import matplotlib.pyplot as plt\n",
    "# from imblearn.over_sampling import SMOTE\n",
    "import joblib\n",
    "\n",
    "from processing_data import *"
   ]
  },
  {
   "cell_type": "markdown",
   "metadata": {},
   "source": [
    "##### Data Processing"
   ]
  },
  {
   "cell_type": "code",
   "execution_count": 2,
   "metadata": {},
   "outputs": [
    {
     "name": "stdout",
     "output_type": "stream",
     "text": [
      "Adding UIDs.\n",
      "UIDs added\n",
      "Beginning processing for person_demographics_episode_train.\n",
      "Finished processing of person_demographics_episode_train.\n",
      "Beginning processing for measurement_meds_train.\n",
      "Finished processing of measurement_meds_train.\n",
      "Beginning processing for drugsexposure_train.\n"
     ]
    },
    {
     "name": "stderr",
     "output_type": "stream",
     "text": [
      "100%|██████████| 27594/27594 [41:32<00:00, 11.07it/s]    \n"
     ]
    },
    {
     "name": "stdout",
     "output_type": "stream",
     "text": [
      "Finished processing of drugsexposure_train.\n",
      "Beginning processing for measurement_lab_train.\n",
      "Finished processing of measurement_lab_train.\n",
      "Beginning processing for proceduresoccurrences_train.\n",
      "Finished processing of proceduresoccurrences_train.\n",
      "Beginning processing for observation_train.\n",
      "Finished processing of observation_train.\n",
      "Beginning processing for measurement_observation_train.\n",
      "Finished processing of measurement_observation_train.\n",
      "Beginning processing for devices_train.\n",
      "Finished processing of devices_train.\n",
      "Beginning processing for SepsisLabel_train.\n",
      "Finished processing of SepsisLabel_train.\n",
      "Beginning adding new_person_id column based on uids.\n",
      "Finished adding new_person_id column based on uids.\n",
      "Beginning birthday ubiquity.\n",
      "Birthday ubiquity established.\n",
      "Adding visit reason\n"
     ]
    },
    {
     "name": "stderr",
     "output_type": "stream",
     "text": [
      "100%|██████████| 331623/331623 [11:08<00:00, 496.37it/s]\n"
     ]
    },
    {
     "name": "stdout",
     "output_type": "stream",
     "text": [
      "Visit reasons added\n",
      "Clearing columns.\n",
      "Columns cleared.\n",
      "filling NaN values using Gaussians.\n",
      "filled NaN values using Gaussians.\n",
      "Filling zero values for one hot encoding columns.\n",
      "Zeros filled.\n",
      "Beginning categorical encoding.\n"
     ]
    },
    {
     "name": "stderr",
     "output_type": "stream",
     "text": [
      "100%|██████████| 3/3 [00:01<00:00,  1.51it/s]\n"
     ]
    },
    {
     "name": "stdout",
     "output_type": "stream",
     "text": [
      "Finished categorical encoding.\n"
     ]
    }
   ],
   "source": [
    "sepsis_data_intake = initial_intake_process_of_data(data_type='train',load_tables='no')\n",
    "data_dict, factors = sepsis_data_intake.process_data()\n",
    "\n",
    "sepsis_data_processing = post_merge_process(data_dict=data_dict,factors=factors,data_type='train')\n",
    "sepsis_data_processing.post_join_processing_train(10000)\n",
    "\n",
    "factors_for_modeling = sepsis_data_processing.factors.copy()"
   ]
  },
  {
   "cell_type": "code",
   "execution_count": 3,
   "metadata": {},
   "outputs": [],
   "source": [
    "split_data, column_names = format_for_modeling(factors_for_modeling)"
   ]
  },
  {
   "cell_type": "markdown",
   "metadata": {},
   "source": [
    "##### Random Forest Model"
   ]
  },
  {
   "cell_type": "code",
   "execution_count": 4,
   "metadata": {},
   "outputs": [],
   "source": [
    "def forest_model(data_dictionary: dict):\n",
    "    X_train = data_dictionary['X_train']\n",
    "    X_test = data_dictionary['X_test']\n",
    "    y_train = data_dictionary['y_train']\n",
    "    y_test = data_dictionary['y_test']\n",
    "    person_id_train = data_dictionary['person_id_train']\n",
    "    person_id_test = data_dictionary['person_id_test']\n",
    "\n",
    "    r_forest_model = RandomForestClassifier(class_weight={0:1,1:150})\n",
    "    r_forest_model.fit(X_train,y_train)\n",
    "\n",
    "    y_pred = r_forest_model.predict(X_test)\n",
    "    accuracy = accuracy_score(y_test, y_pred)\n",
    "    print(f\"Accuracy score: {accuracy}\")\n",
    "    f1 = f1_score(y_test,y_pred)\n",
    "    print(f\"F1 score: {f1}\")\n",
    "\n",
    "    cm = confusion_matrix(y_test, y_pred)\n",
    "\n",
    "    cmn = cm.astype('float') / cm.sum(axis=1)[:, np.newaxis]\n",
    "    fig, ax = plt.subplots(figsize=(5,5))\n",
    "    sns.heatmap(cmn, annot=True, fmt='.2f', xticklabels=['not sepsis', 'sepsis'], yticklabels=['not sepsis', 'sepsis'])\n",
    "    plt.ylabel('Actual')\n",
    "    plt.xlabel('Predicted')\n",
    "    plt.show(block=False)\n",
    "    return r_forest_model, y_pred"
   ]
  },
  {
   "cell_type": "code",
   "execution_count": 5,
   "metadata": {},
   "outputs": [
    {
     "name": "stdout",
     "output_type": "stream",
     "text": [
      "Accuracy score: 0.9736217725052337\n",
      "F1 score: 0.2676998943289891\n"
     ]
    },
    {
     "data": {
      "image/png": "[encoded data removed]",
      "text/plain": [
       "<Figure size 500x500 with 2 Axes>"
      ]
     },
     "metadata": {},
     "output_type": "display_data"
    }
   ],
   "source": [
    "forest, preds = forest_model(split_data)"
   ]
  },
  {
   "cell_type": "code",
   "execution_count": 6,
   "metadata": {},
   "outputs": [
    {
     "data": {
      "text/html": [
       "<div>\n",
       "<style scoped>\n",
       "    .dataframe tbody tr th:only-of-type {\n",
       "        vertical-align: middle;\n",
       "    }\n",
       "\n",
       "    .dataframe tbody tr th {\n",
       "        vertical-align: top;\n",
       "    }\n",
       "\n",
       "    .dataframe thead th {\n",
       "        text-align: right;\n",
       "    }\n",
       "</style>\n",
       "<table border=\"1\" class=\"dataframe\">\n",
       "  <thead>\n",
       "    <tr style=\"text-align: right;\">\n",
       "      <th></th>\n",
       "      <th>factors</th>\n",
       "      <th>importance</th>\n",
       "    </tr>\n",
       "  </thead>\n",
       "  <tbody>\n",
       "    <tr>\n",
       "      <th>78</th>\n",
       "      <td>ohe_Intravenous</td>\n",
       "      <td>0.320257</td>\n",
       "    </tr>\n",
       "    <tr>\n",
       "      <th>48</th>\n",
       "      <td>ohe_epinephrine</td>\n",
       "      <td>0.137706</td>\n",
       "    </tr>\n",
       "    <tr>\n",
       "      <th>63</th>\n",
       "      <td>ohe_milrinone</td>\n",
       "      <td>0.057496</td>\n",
       "    </tr>\n",
       "    <tr>\n",
       "      <th>89</th>\n",
       "      <td>age</td>\n",
       "      <td>0.053953</td>\n",
       "    </tr>\n",
       "    <tr>\n",
       "      <th>47</th>\n",
       "      <td>ohe_dopamine</td>\n",
       "      <td>0.051526</td>\n",
       "    </tr>\n",
       "    <tr>\n",
       "      <th>...</th>\n",
       "      <td>...</td>\n",
       "      <td>...</td>\n",
       "    </tr>\n",
       "    <tr>\n",
       "      <th>83</th>\n",
       "      <td>ohe_Rectal</td>\n",
       "      <td>0.000000</td>\n",
       "    </tr>\n",
       "    <tr>\n",
       "      <th>79</th>\n",
       "      <td>ohe_Nasal</td>\n",
       "      <td>0.000000</td>\n",
       "    </tr>\n",
       "    <tr>\n",
       "      <th>34</th>\n",
       "      <td>ohe_cefadroxil</td>\n",
       "      <td>0.000000</td>\n",
       "    </tr>\n",
       "    <tr>\n",
       "      <th>65</th>\n",
       "      <td>ohe_nitrofurantoin</td>\n",
       "      <td>0.000000</td>\n",
       "    </tr>\n",
       "    <tr>\n",
       "      <th>53</th>\n",
       "      <td>ohe_fusidate</td>\n",
       "      <td>0.000000</td>\n",
       "    </tr>\n",
       "  </tbody>\n",
       "</table>\n",
       "<p>93 rows × 2 columns</p>\n",
       "</div>"
      ],
      "text/plain": [
       "               factors  importance\n",
       "78     ohe_Intravenous    0.320257\n",
       "48     ohe_epinephrine    0.137706\n",
       "63       ohe_milrinone    0.057496\n",
       "89                 age    0.053953\n",
       "47        ohe_dopamine    0.051526\n",
       "..                 ...         ...\n",
       "83          ohe_Rectal    0.000000\n",
       "79           ohe_Nasal    0.000000\n",
       "34      ohe_cefadroxil    0.000000\n",
       "65  ohe_nitrofurantoin    0.000000\n",
       "53        ohe_fusidate    0.000000\n",
       "\n",
       "[93 rows x 2 columns]"
      ]
     },
     "execution_count": 6,
     "metadata": {},
     "output_type": "execute_result"
    }
   ],
   "source": [
    "importance = pd.DataFrame({'factors': column_names, 'importance': forest.feature_importances_}).sort_values(by='importance',ascending=False)\n",
    "importance"
   ]
  },
  {
   "cell_type": "markdown",
   "metadata": {},
   "source": [
    "##### XGB Classifier"
   ]
  },
  {
   "cell_type": "code",
   "execution_count": 7,
   "metadata": {},
   "outputs": [],
   "source": [
    "def xgb_model(data_dictionary: dict):\n",
    "    X_train = data_dictionary['X_train']\n",
    "    X_test = data_dictionary['X_test']\n",
    "    y_train = data_dictionary['y_train']\n",
    "    y_test = data_dictionary['y_test']\n",
    "    person_id_train = data_dictionary['person_id_train']\n",
    "    person_id_test = data_dictionary['person_id_test']\n",
    "\n",
    "\n",
    "    r_xgb_model = XGBClassifier(scale_pos_weight = 150, learning_rate=0.1, n_estimators=300, max_depth=15)\n",
    "    r_xgb_model.fit(X_train, y_train)\n",
    "\n",
    "    y_pred = r_xgb_model.predict(X_test)\n",
    "    accuracy = accuracy_score(y_test, y_pred)\n",
    "    print(f\"Accuracy score: {accuracy}\")\n",
    "    f1 = f1_score(y_test,y_pred)\n",
    "    print(f\"F1 score: {f1}\")\n",
    "\n",
    "    cm = confusion_matrix(y_test, y_pred)\n",
    "\n",
    "    cmn = cm.astype('float') / cm.sum(axis=1)[:, np.newaxis]\n",
    "    fig, ax = plt.subplots(figsize=(5,5))\n",
    "    sns.heatmap(cmn, annot=True, fmt='.2f', xticklabels=['not sepsis', 'sepsis'], yticklabels=['not sepsis', 'sepsis'])\n",
    "    plt.ylabel('Actual')\n",
    "    plt.xlabel('Predicted')\n",
    "    plt.show(block=False)\n",
    "    return r_xgb_model, y_pred"
   ]
  },
  {
   "cell_type": "code",
   "execution_count": 8,
   "metadata": {},
   "outputs": [
    {
     "name": "stdout",
     "output_type": "stream",
     "text": [
      "Accuracy score: 0.9789507073526613\n",
      "F1 score: 0.5859745445470427\n"
     ]
    },
    {
     "data": {
      "image/png": "[encoded data removed]",
      "text/plain": [
       "<Figure size 500x500 with 2 Axes>"
      ]
     },
     "metadata": {},
     "output_type": "display_data"
    }
   ],
   "source": [
    "xgb, preds = xgb_model(split_data)"
   ]
  },
  {
   "cell_type": "code",
   "execution_count": 9,
   "metadata": {},
   "outputs": [
    {
     "data": {
      "text/html": [
       "<div>\n",
       "<style scoped>\n",
       "    .dataframe tbody tr th:only-of-type {\n",
       "        vertical-align: middle;\n",
       "    }\n",
       "\n",
       "    .dataframe tbody tr th {\n",
       "        vertical-align: top;\n",
       "    }\n",
       "\n",
       "    .dataframe thead th {\n",
       "        text-align: right;\n",
       "    }\n",
       "</style>\n",
       "<table border=\"1\" class=\"dataframe\">\n",
       "  <thead>\n",
       "    <tr style=\"text-align: right;\">\n",
       "      <th></th>\n",
       "      <th>factors</th>\n",
       "      <th>importance</th>\n",
       "    </tr>\n",
       "  </thead>\n",
       "  <tbody>\n",
       "    <tr>\n",
       "      <th>78</th>\n",
       "      <td>ohe_Intravenous</td>\n",
       "      <td>0.846279</td>\n",
       "    </tr>\n",
       "    <tr>\n",
       "      <th>48</th>\n",
       "      <td>ohe_epinephrine</td>\n",
       "      <td>0.018964</td>\n",
       "    </tr>\n",
       "    <tr>\n",
       "      <th>74</th>\n",
       "      <td>ohe_trimethoprim</td>\n",
       "      <td>0.013646</td>\n",
       "    </tr>\n",
       "    <tr>\n",
       "      <th>47</th>\n",
       "      <td>ohe_dopamine</td>\n",
       "      <td>0.013306</td>\n",
       "    </tr>\n",
       "    <tr>\n",
       "      <th>58</th>\n",
       "      <td>ohe_levosimendan</td>\n",
       "      <td>0.010713</td>\n",
       "    </tr>\n",
       "    <tr>\n",
       "      <th>...</th>\n",
       "      <td>...</td>\n",
       "      <td>...</td>\n",
       "    </tr>\n",
       "    <tr>\n",
       "      <th>67</th>\n",
       "      <td>ohe_penicillin G</td>\n",
       "      <td>0.000000</td>\n",
       "    </tr>\n",
       "    <tr>\n",
       "      <th>68</th>\n",
       "      <td>ohe_phenylephrine</td>\n",
       "      <td>0.000000</td>\n",
       "    </tr>\n",
       "    <tr>\n",
       "      <th>70</th>\n",
       "      <td>ohe_prednisolone</td>\n",
       "      <td>0.000000</td>\n",
       "    </tr>\n",
       "    <tr>\n",
       "      <th>50</th>\n",
       "      <td>ohe_erythromycin</td>\n",
       "      <td>0.000000</td>\n",
       "    </tr>\n",
       "    <tr>\n",
       "      <th>71</th>\n",
       "      <td>ohe_rifampin</td>\n",
       "      <td>0.000000</td>\n",
       "    </tr>\n",
       "  </tbody>\n",
       "</table>\n",
       "<p>93 rows × 2 columns</p>\n",
       "</div>"
      ],
      "text/plain": [
       "              factors  importance\n",
       "78    ohe_Intravenous    0.846279\n",
       "48    ohe_epinephrine    0.018964\n",
       "74   ohe_trimethoprim    0.013646\n",
       "47       ohe_dopamine    0.013306\n",
       "58   ohe_levosimendan    0.010713\n",
       "..                ...         ...\n",
       "67   ohe_penicillin G    0.000000\n",
       "68  ohe_phenylephrine    0.000000\n",
       "70   ohe_prednisolone    0.000000\n",
       "50   ohe_erythromycin    0.000000\n",
       "71       ohe_rifampin    0.000000\n",
       "\n",
       "[93 rows x 2 columns]"
      ]
     },
     "execution_count": 9,
     "metadata": {},
     "output_type": "execute_result"
    }
   ],
   "source": [
    "importance = pd.DataFrame({'factors': column_names, 'importance': xgb.feature_importances_}).sort_values(by='importance',ascending=False)\n",
    "importance"
   ]
  },
  {
   "cell_type": "markdown",
   "metadata": {},
   "source": [
    "##### HGBC Model"
   ]
  },
  {
   "cell_type": "code",
   "execution_count": 10,
   "metadata": {},
   "outputs": [],
   "source": [
    "def run_hgbc(data_dictionary: dict):\n",
    "    X_train = data_dictionary['X_train']\n",
    "    X_test = data_dictionary['X_test']\n",
    "    y_train = data_dictionary['y_train']\n",
    "    y_test = data_dictionary['y_test']\n",
    "    \n",
    "    # class_weight={0:1,1:150}\n",
    "    hgbc_classifier = HistGradientBoostingClassifier(class_weight={0:1,1:150})\n",
    "    hgbc_classifier.fit(X_train, y_train)\n",
    "\n",
    "    y_pred = hgbc_classifier.predict(X_test)\n",
    "    accuracy = accuracy_score(y_test, y_pred)\n",
    "    print(f\"Accuracy score: {accuracy}\")\n",
    "    f1 = f1_score(y_test,y_pred)\n",
    "    print(f\"F1 score: {f1}\")\n",
    "\n",
    "    cm = confusion_matrix(y_test, y_pred)\n",
    "\n",
    "    cmn = cm.astype('float') / cm.sum(axis=1)[:, np.newaxis]\n",
    "    fig, ax = plt.subplots(figsize=(5,5))\n",
    "    sns.heatmap(cmn, annot=True, fmt='.2f', xticklabels=['not sepsis', 'sepsis'], yticklabels=['not sepsis', 'sepsis'])\n",
    "    plt.ylabel('Actual')\n",
    "    plt.xlabel('Predicted')\n",
    "    plt.show(block=False)\n",
    "    return hgbc_classifier, y_pred"
   ]
  },
  {
   "cell_type": "code",
   "execution_count": 11,
   "metadata": {},
   "outputs": [
    {
     "name": "stdout",
     "output_type": "stream",
     "text": [
      "Accuracy score: 0.9341242149337056\n",
      "F1 score: 0.3993521517815826\n"
     ]
    },
    {
     "data": {
      "image/png": "[encoded data removed]",
      "text/plain": [
       "<Figure size 500x500 with 2 Axes>"
      ]
     },
     "metadata": {},
     "output_type": "display_data"
    }
   ],
   "source": [
    "hgbc, preds = run_hgbc(split_data)"
   ]
  },
  {
   "cell_type": "code",
   "execution_count": 12,
   "metadata": {},
   "outputs": [
    {
     "ename": "AttributeError",
     "evalue": "'HistGradientBoostingClassifier' object has no attribute 'feature_importances_'",
     "output_type": "error",
     "traceback": [
      "\u001b[1;31m---------------------------------------------------------------------------\u001b[0m",
      "\u001b[1;31mAttributeError\u001b[0m                            Traceback (most recent call last)",
      "Cell \u001b[1;32mIn[12], line 1\u001b[0m\n\u001b[1;32m----> 1\u001b[0m importance \u001b[38;5;241m=\u001b[39m pd\u001b[38;5;241m.\u001b[39mDataFrame({\u001b[38;5;124m'\u001b[39m\u001b[38;5;124mfactors\u001b[39m\u001b[38;5;124m'\u001b[39m: column_names, \u001b[38;5;124m'\u001b[39m\u001b[38;5;124mimportance\u001b[39m\u001b[38;5;124m'\u001b[39m: \u001b[43mhgbc\u001b[49m\u001b[38;5;241;43m.\u001b[39;49m\u001b[43mfeature_importances_\u001b[49m})\u001b[38;5;241m.\u001b[39msort_values(by\u001b[38;5;241m=\u001b[39m\u001b[38;5;124m'\u001b[39m\u001b[38;5;124mimportance\u001b[39m\u001b[38;5;124m'\u001b[39m,ascending\u001b[38;5;241m=\u001b[39m\u001b[38;5;28;01mFalse\u001b[39;00m)\n\u001b[0;32m      2\u001b[0m importance\n",
      "\u001b[1;31mAttributeError\u001b[0m: 'HistGradientBoostingClassifier' object has no attribute 'feature_importances_'"
     ]
    }
   ],
   "source": [
    "importance = pd.DataFrame({'factors': column_names, 'importance': hgbc.feature_importances_}).sort_values(by='importance',ascending=False)\n",
    "importance"
   ]
  }
 ],
 "metadata": {
  "kernelspec": {
   "display_name": "Python 3",
   "language": "python",
   "name": "python3"
  },
  "language_info": {
   "codemirror_mode": {
    "name": "ipython",
    "version": 3
   },
   "file_extension": ".py",
   "mimetype": "text/x-python",
   "name": "python",
   "nbconvert_exporter": "python",
   "pygments_lexer": "ipython3",
   "version": "3.10.11"
  }
 },
 "nbformat": 4,
 "nbformat_minor": 2
}
